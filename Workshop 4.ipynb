{
 "cells": [
  {
   "cell_type": "markdown",
   "metadata": {
    "slideshow": {
     "slide_type": "slide"
    }
   },
   "source": [
    "# Advanced concepts"
   ]
  },
  {
   "cell_type": "markdown",
   "metadata": {
    "slideshow": {
     "slide_type": "slide"
    }
   },
   "source": [
    "## Decorators\n",
    "\n",
    "A Python decorator is a specific change to the Python syntax that allows us to more conveniently alter functions and methods."
   ]
  },
  {
   "cell_type": "code",
   "execution_count": null,
   "metadata": {},
   "outputs": [],
   "source": [
    "def decorator(f):\n",
    "    print(\"Decorator called\")\n",
    "    \n",
    "    def wrapper():\n",
    "        print(\"Wrapper called\")\n",
    "        f()\n",
    "        \n",
    "    return wrapper\n",
    "    \n",
    "@decorator\n",
    "def nothing_doer():\n",
    "    print(\"Decorated function called\")\n",
    "    \n",
    "nothing_doer()\n",
    "print(nothing_doer.__name__)"
   ]
  },
  {
   "cell_type": "markdown",
   "metadata": {
    "slideshow": {
     "slide_type": "slide"
    }
   },
   "source": [
    " It's syntax sugar, equivalent code:"
   ]
  },
  {
   "cell_type": "code",
   "execution_count": null,
   "metadata": {},
   "outputs": [],
   "source": [
    "def decorator(f):\n",
    "    print(\"Decorator called\")\n",
    "    \n",
    "    def wrapper():\n",
    "        print(\"Wrapper called\")\n",
    "        f()\n",
    "        \n",
    "    return wrapper\n",
    "\n",
    "def nothing_doer():\n",
    "    print(\"Decorated function called\")\n",
    "    \n",
    "wrapped = decorator(nothing_doer)\n",
    "wrapped()"
   ]
  },
  {
   "cell_type": "markdown",
   "metadata": {
    "slideshow": {
     "slide_type": "slide"
    }
   },
   "source": [
    "Nested decorators:"
   ]
  },
  {
   "cell_type": "code",
   "execution_count": null,
   "metadata": {},
   "outputs": [],
   "source": [
    "def decorator1(f):\n",
    "    print(\"Decorator 1 called\")\n",
    "    \n",
    "    def wrapper():\n",
    "        print(\"Decorator 1 wrapper called\")\n",
    "        f()\n",
    "        \n",
    "    return wrapper\n",
    "        \n",
    "def decorator2(f):\n",
    "    print(\"Decorator 2 called\")\n",
    "    \n",
    "    def wrapper():\n",
    "        print(\"Decorator 2 wrapper called\")\n",
    "        f()\n",
    "        \n",
    "    return wrapper\n",
    "\n",
    "@decorator1\n",
    "@decorator2\n",
    "def nothing_doer():\n",
    "    print(\"Decorated function called\")\n",
    "    \n",
    "nothing_doer()"
   ]
  },
  {
   "cell_type": "markdown",
   "metadata": {
    "slideshow": {
     "slide_type": "slide"
    }
   },
   "source": [
    "Equivalent code:"
   ]
  },
  {
   "cell_type": "code",
   "execution_count": null,
   "metadata": {},
   "outputs": [],
   "source": [
    "def decorator1(f):\n",
    "    print(\"Decorator 1 called\")\n",
    "    \n",
    "    def wrapper():\n",
    "        print(\"Decorator 1 wrapper called\")\n",
    "        f()\n",
    "        \n",
    "    return wrapper\n",
    "        \n",
    "def decorator2(f):\n",
    "    print(\"Decorator 2 called\")\n",
    "    \n",
    "    def wrapper():\n",
    "        print(\"Decorator 2 wrapper called\")\n",
    "        f()\n",
    "        \n",
    "    return wrapper\n",
    "\n",
    "def nothing_doer():\n",
    "    print(\"Decorated function called\")\n",
    "    \n",
    "wrapped = decorator1(decorator2(nothing_doer))\n",
    "wrapped()"
   ]
  },
  {
   "cell_type": "markdown",
   "metadata": {
    "slideshow": {
     "slide_type": "slide"
    }
   },
   "source": [
    "Parametrized decorator:"
   ]
  },
  {
   "cell_type": "code",
   "execution_count": null,
   "metadata": {},
   "outputs": [],
   "source": [
    "myvar = \"World\"\n",
    "\n",
    "def superdecorator(message, subject):\n",
    "    def decorator(f):\n",
    "        def wrapper():\n",
    "            print(\"Wrapper called: \" + message + \" \" + subject)\n",
    "            f()\n",
    "\n",
    "        return wrapper\n",
    "    \n",
    "    return decorator\n",
    "\n",
    "@superdecorator(\"Hello\", myvar)\n",
    "def nothing_doer():\n",
    "    print(\"Decorated function called\")\n",
    "    \n",
    "nothing_doer()"
   ]
  },
  {
   "cell_type": "markdown",
   "metadata": {
    "slideshow": {
     "slide_type": "slide"
    }
   },
   "source": [
    "Class property decorator:"
   ]
  },
  {
   "cell_type": "code",
   "execution_count": null,
   "metadata": {},
   "outputs": [],
   "source": [
    "class Celsius:\n",
    "    def __init__(self, temperature = 0):\n",
    "        self._temperature = temperature\n",
    "\n",
    "    def to_fahrenheit(self):\n",
    "        return (self.temperature * 1.8) + 32\n",
    "\n",
    "    @property\n",
    "    def temperature(self):\n",
    "        print(\"Getting value\")\n",
    "        return self._temperature\n",
    "\n",
    "    @temperature.setter\n",
    "    def temperature(self, value):\n",
    "        if value < -273:\n",
    "            raise ValueError(\"Temperature below -273 is not possible\")\n",
    "        print(\"Setting value\")\n",
    "        self._temperature = value\n",
    "        \n",
    "c = Celsius()\n",
    "c.temperature = 36.6\n",
    "c.temperature"
   ]
  },
  {
   "cell_type": "markdown",
   "metadata": {
    "slideshow": {
     "slide_type": "slide"
    }
   },
   "source": [
    "How it works:\n",
    "\n",
    "[Documentation on property()](https://docs.python.org/3/library/functions.html#property)\n",
    "\n",
    "First, equivalent code:"
   ]
  },
  {
   "cell_type": "code",
   "execution_count": null,
   "metadata": {},
   "outputs": [],
   "source": [
    "class MyClass:\n",
    "    def getter(self):\n",
    "        print(\"Getter called\")\n",
    "\n",
    "    def setter(self, arg):\n",
    "        print(\"Setter called: {}\".format(arg))\n",
    "\n",
    "    x = property(getter, setter)\n",
    "\n",
    "m = MyClass()\n",
    "m.x\n",
    "m.x = 12"
   ]
  },
  {
   "cell_type": "markdown",
   "metadata": {
    "slideshow": {
     "slide_type": "slide"
    }
   },
   "source": [
    "Let's write our own property():"
   ]
  },
  {
   "cell_type": "code",
   "execution_count": null,
   "metadata": {},
   "outputs": [],
   "source": [
    "class MyProperty:\n",
    "    def __init__(self, f):\n",
    "        self._getter = f\n",
    "        \n",
    "    def __get__(self, instance, klass):\n",
    "        return self._getter(instance)\n",
    "       \n",
    "    def __set__(self, instance, value):\n",
    "        return self._setter(instance, value)\n",
    "        \n",
    "    def setter(self, f):\n",
    "        self._setter = f\n",
    "\n",
    "def myproperty(f):\n",
    "    return MyProperty(f)\n",
    "\n",
    "class MyClass:\n",
    "    def __init__(self, x):\n",
    "        self._x = x\n",
    "    \n",
    "    @myproperty\n",
    "    def x(self):\n",
    "        print(\"Getter called: {}\".format(self._x))\n",
    "        return self._x\n",
    "\n",
    "    @x.setter\n",
    "    def setter(self, arg):\n",
    "        print(\"Setter called: {}\".format(arg))\n",
    "        self._x = arg\n",
    "\n",
    "m = MyClass(10)\n",
    "print(m.x)\n",
    "\n",
    "m.x = 12\n",
    "print(m.x)"
   ]
  },
  {
   "cell_type": "markdown",
   "metadata": {
    "slideshow": {
     "slide_type": "slide"
    }
   },
   "source": [
    "### Memoize pattern\n",
    "\n",
    "Imagine factorial() contains some expensive computations:"
   ]
  },
  {
   "cell_type": "code",
   "execution_count": null,
   "metadata": {},
   "outputs": [],
   "source": [
    "def memoize(f):\n",
    "    cache = {}\n",
    "    def wrapper(x):\n",
    "        if x in cache:\n",
    "            print(\"Cache hit: {}\".format(x))\n",
    "            return cache[x]\n",
    "        \n",
    "        print(\"wrapper({})\".format(x))\n",
    "        \n",
    "        r = f(x)\n",
    "        cache[x] = r\n",
    "        \n",
    "        return r\n",
    "        \n",
    "    return wrapper\n",
    "\n",
    "@memoize\n",
    "def factorial(x):\n",
    "    return 1 if x == 1 else x * factorial(x - 1)\n",
    "\n",
    "print(factorial(3))\n",
    "print(factorial(4))"
   ]
  },
  {
   "cell_type": "markdown",
   "metadata": {
    "slideshow": {
     "slide_type": "slide"
    }
   },
   "source": [
    "### Module 'functools'\n",
    "\n",
    "[Docs](https://docs.python.org/3/library/functools.html)\n",
    "\n",
    "**@functools.lru_cache()**: Don't reinvent the wheel + some goodies"
   ]
  },
  {
   "cell_type": "code",
   "execution_count": null,
   "metadata": {},
   "outputs": [],
   "source": [
    "import functools\n",
    "\n",
    "@functools.lru_cache(maxsize=6)\n",
    "def factorial(x):\n",
    "    return 1 if x == 1 else x * factorial(x - 1)\n",
    "\n",
    "for n in range(1, 6):\n",
    "    factorial(n)\n",
    "\n",
    "factorial.cache_info()"
   ]
  },
  {
   "cell_type": "markdown",
   "metadata": {
    "slideshow": {
     "slide_type": "slide"
    }
   },
   "source": [
    "**functools.partial()**: [Stackoverflow: What is currying](https://stackoverflow.com/questions/36314/what-is-currying)"
   ]
  },
  {
   "cell_type": "code",
   "execution_count": null,
   "metadata": {},
   "outputs": [],
   "source": [
    "def manyargs(a, b, c):\n",
    "    print(\"a={}, b={}, c={}\".format(a, b, c))\n",
    "    \n",
    "p1 = functools.partial(manyargs, 1)\n",
    "p2 = functools.partial(p1, 2)\n",
    "\n",
    "p2(3)"
   ]
  },
  {
   "cell_type": "code",
   "execution_count": null,
   "metadata": {},
   "outputs": [],
   "source": [
    "p1 = functools.partial(manyargs, c=1)\n",
    "p2 = functools.partial(p1, b=2)\n",
    "\n",
    "p2(a=3)"
   ]
  },
  {
   "cell_type": "markdown",
   "metadata": {
    "slideshow": {
     "slide_type": "slide"
    }
   },
   "source": [
    "**@functools.wraps()**: fixes wrapped function metadata"
   ]
  },
  {
   "cell_type": "code",
   "execution_count": null,
   "metadata": {},
   "outputs": [],
   "source": [
    "def decorator(f):\n",
    "    @functools.wraps(f)\n",
    "    def wrapper():\n",
    "        print(\"Wrapper called\")        \n",
    "        f()\n",
    "        \n",
    "    return wrapper\n",
    "    \n",
    "@decorator\n",
    "def nothing_doer():\n",
    "    print(\"Decorated function called\")\n",
    "    \n",
    "nothing_doer()\n",
    "\n",
    "print(nothing_doer.__name__)"
   ]
  },
  {
   "cell_type": "markdown",
   "metadata": {
    "slideshow": {
     "slide_type": "slide"
    }
   },
   "source": [
    "## Iterators"
   ]
  },
  {
   "cell_type": "code",
   "execution_count": null,
   "metadata": {},
   "outputs": [],
   "source": [
    "it = iter([1, 2, 3])\n",
    "it"
   ]
  },
  {
   "cell_type": "code",
   "execution_count": null,
   "metadata": {},
   "outputs": [],
   "source": [
    "print(next(it))\n",
    "print(next(it))\n",
    "print(next(it))"
   ]
  },
  {
   "cell_type": "code",
   "execution_count": null,
   "metadata": {},
   "outputs": [],
   "source": [
    "next(it)"
   ]
  },
  {
   "cell_type": "markdown",
   "metadata": {
    "slideshow": {
     "slide_type": "slide"
    }
   },
   "source": [
    "Iterator object and protocol"
   ]
  },
  {
   "cell_type": "code",
   "execution_count": null,
   "metadata": {},
   "outputs": [],
   "source": [
    "import random\n",
    "\n",
    "class MyIterator:\n",
    "    def __init__(self, iterations, stop):\n",
    "        self._iterations = iterations\n",
    "        self._stop = stop\n",
    "\n",
    "    def __iter__(self):\n",
    "        \"\"\"Or get TypeError: 'MyIterator' object is not iterable\"\"\"\n",
    "        return self\n",
    "    \n",
    "    def __next__(self):\n",
    "        if self._iterations < 1:\n",
    "            raise StopIteration\n",
    "        \n",
    "        self._iterations -= 1\n",
    "        \n",
    "        return random.randrange(self._stop)\n",
    "    \n",
    "myiter = MyIterator(5, 10)\n",
    "list(x for x in myiter)"
   ]
  },
  {
   "cell_type": "markdown",
   "metadata": {
    "slideshow": {
     "slide_type": "slide"
    }
   },
   "source": [
    "## Generators\n",
    "\n",
    "A generator is a function that produces a sequence of results instead of a single value."
   ]
  },
  {
   "cell_type": "code",
   "execution_count": null,
   "metadata": {},
   "outputs": [],
   "source": [
    "def countdown(n):\n",
    "    while n > 0:\n",
    "        yield n\n",
    "        n -= 1\n",
    "    \n",
    "for x in countdown(5):\n",
    "    print(x)"
   ]
  },
  {
   "cell_type": "markdown",
   "metadata": {
    "slideshow": {
     "slide_type": "slide"
    }
   },
   "source": [
    "Btw, remember list comprehensions?"
   ]
  },
  {
   "cell_type": "code",
   "execution_count": null,
   "metadata": {},
   "outputs": [],
   "source": [
    "[x for x in range(1, 10)]"
   ]
  },
  {
   "cell_type": "markdown",
   "metadata": {},
   "source": [
    "Here, the generator equvalent:"
   ]
  },
  {
   "cell_type": "code",
   "execution_count": null,
   "metadata": {},
   "outputs": [],
   "source": [
    "(x for x in range(1, 10))"
   ]
  },
  {
   "cell_type": "markdown",
   "metadata": {},
   "source": [
    "So this expression has low memory footprint:"
   ]
  },
  {
   "cell_type": "code",
   "execution_count": null,
   "metadata": {},
   "outputs": [],
   "source": [
    "sum(x for x in range(1, 10))"
   ]
  },
  {
   "cell_type": "markdown",
   "metadata": {
    "slideshow": {
     "slide_type": "slide"
    }
   },
   "source": [
    "Generators do not act like normal functions when called:"
   ]
  },
  {
   "cell_type": "code",
   "execution_count": null,
   "metadata": {},
   "outputs": [],
   "source": [
    "def countdown(n):\n",
    "    print(\"countdown({}) called\".format(n))\n",
    "    \n",
    "    if n == 101:\n",
    "        return \"no-no\"\n",
    "    \n",
    "    while n > 0:\n",
    "        yield n\n",
    "        n -= 1\n",
    "        \n",
    "    print(\"end\")\n",
    "\n",
    "cd = countdown(5)\n",
    "\n",
    "print(cd)\n",
    "        \n",
    "for x in cd:\n",
    "    print(x)\n",
    "\n",
    "for x in countdown(101):\n",
    "    print(x)"
   ]
  },
  {
   "cell_type": "markdown",
   "metadata": {
    "slideshow": {
     "slide_type": "slide"
    }
   },
   "source": [
    "Generators conform iteration protocol:"
   ]
  },
  {
   "cell_type": "code",
   "execution_count": null,
   "metadata": {},
   "outputs": [],
   "source": [
    "cd = countdown(2)\n",
    "\n",
    "print(next(cd))\n",
    "print(next(cd))\n",
    "print(next(cd))"
   ]
  },
  {
   "cell_type": "markdown",
   "metadata": {
    "slideshow": {
     "slide_type": "slide"
    }
   },
   "source": [
    "Generator pipeline:"
   ]
  },
  {
   "cell_type": "code",
   "execution_count": null,
   "metadata": {},
   "outputs": [],
   "source": [
    "import os\n",
    "\n",
    "def ls(d):\n",
    "    return [(yield x) for x in os.listdir(d)]\n",
    "\n",
    "def files(f):\n",
    "    return [(yield x) for x in f if os.path.isfile(x)]\n",
    "\n",
    "def workshops(f):\n",
    "    return [(yield x) for x in f if x.startswith(\"Workshop\")]\n",
    "\n",
    "list(workshops(files(ls(\".\"))))"
   ]
  },
  {
   "cell_type": "markdown",
   "metadata": {
    "slideshow": {
     "slide_type": "slide"
    }
   },
   "source": [
    "### Module 'itertools'\n",
    "\n",
    "[Docs](https://docs.python.org/3/library/itertools.html)"
   ]
  },
  {
   "cell_type": "code",
   "execution_count": null,
   "metadata": {},
   "outputs": [],
   "source": [
    "import itertools"
   ]
  },
  {
   "cell_type": "markdown",
   "metadata": {},
   "source": [
    "**itertools.count(start, \\[step\\])**: generate numbers endlessly"
   ]
  },
  {
   "cell_type": "code",
   "execution_count": null,
   "metadata": {},
   "outputs": [],
   "source": [
    "it = itertools.count(5)\n",
    "\n",
    "print(next(it))\n",
    "print(next(it))\n",
    "print(next(it))"
   ]
  },
  {
   "cell_type": "markdown",
   "metadata": {
    "slideshow": {
     "slide_type": "slide"
    }
   },
   "source": [
    "**itertools.cycle(iterable)**: cycle thru values endlessly"
   ]
  },
  {
   "cell_type": "code",
   "execution_count": null,
   "metadata": {},
   "outputs": [],
   "source": [
    "it = itertools.cycle([0, 1])\n",
    "\n",
    "print(next(it))\n",
    "print(next(it))\n",
    "print(next(it))\n",
    "print(next(it))\n",
    "print(next(it))\n",
    "print(next(it))"
   ]
  },
  {
   "cell_type": "markdown",
   "metadata": {
    "slideshow": {
     "slide_type": "slide"
    }
   },
   "source": [
    "**itertools.repeat(elem \\[,n\\])**: endlessly or up to n times"
   ]
  },
  {
   "cell_type": "code",
   "execution_count": null,
   "metadata": {},
   "outputs": [],
   "source": [
    "list(itertools.repeat('A', 10))"
   ]
  },
  {
   "cell_type": "markdown",
   "metadata": {
    "slideshow": {
     "slide_type": "slide"
    }
   },
   "source": [
    "**itertools.zip_longest(*iterables, fillvalue=None)**: zip() that stops on longer list"
   ]
  },
  {
   "cell_type": "code",
   "execution_count": null,
   "metadata": {},
   "outputs": [],
   "source": [
    "list(itertools.zip_longest('ABCDE', [0, 1], fillvalue=-1))"
   ]
  },
  {
   "cell_type": "markdown",
   "metadata": {
    "slideshow": {
     "slide_type": "slide"
    }
   },
   "source": [
    "**itertools.chain(*iterables)**: Make an iterator that returns elements from the first iterable until it is exhausted, then proceeds to the next iterable, until all of the iterables are exhausted."
   ]
  },
  {
   "cell_type": "code",
   "execution_count": null,
   "metadata": {},
   "outputs": [],
   "source": [
    "list(itertools.chain('ABCD', [0, 1]))"
   ]
  },
  {
   "cell_type": "markdown",
   "metadata": {
    "slideshow": {
     "slide_type": "slide"
    }
   },
   "source": [
    "* **itertools.combinations(iterable, r)**: Return r length subsequences of elements from the input iterable.\n",
    "* **itertools.combinations_with_replacement(iterable, r)**: Return r length subsequences of elements from the input iterable allowing individual elements to be repeated more than once."
   ]
  },
  {
   "cell_type": "code",
   "execution_count": null,
   "metadata": {},
   "outputs": [],
   "source": [
    "list(itertools.combinations('ABC', 2))"
   ]
  },
  {
   "cell_type": "code",
   "execution_count": null,
   "metadata": {},
   "outputs": [],
   "source": [
    "list(itertools.combinations_with_replacement('ABC', 2))"
   ]
  },
  {
   "cell_type": "markdown",
   "metadata": {
    "slideshow": {
     "slide_type": "slide"
    }
   },
   "source": [
    "### Module 'collections'\n",
    "\n",
    "[Docs](https://docs.python.org/3/library/collections.html)"
   ]
  },
  {
   "cell_type": "code",
   "execution_count": null,
   "metadata": {},
   "outputs": [],
   "source": [
    "import collections"
   ]
  },
  {
   "cell_type": "markdown",
   "metadata": {},
   "source": [
    "**collections.defaultdict(default_factory)**: When each key is encountered for the first time, it is not already in the mapping; so an entry is automatically created using the default_factory function"
   ]
  },
  {
   "cell_type": "code",
   "execution_count": null,
   "metadata": {},
   "outputs": [],
   "source": [
    "d = collections.defaultdict(list)\n",
    "\n",
    "d['students'].append('Vasya')\n",
    "dict(d)"
   ]
  },
  {
   "cell_type": "markdown",
   "metadata": {
    "slideshow": {
     "slide_type": "slide"
    }
   },
   "source": [
    "**collections.OrderedDict([items])**: An OrderedDict is a dict that remembers the order that keys were first inserted. If a new entry overwrites an existing entry, the original insertion position is left unchanged. Deleting an entry and reinserting it will move it to the end."
   ]
  },
  {
   "cell_type": "code",
   "execution_count": null,
   "metadata": {},
   "outputs": [],
   "source": [
    "d = collections.OrderedDict()\n",
    "d['a'] = 1\n",
    "d['b'] = 2\n",
    "d['c'] = 3\n",
    "\n",
    "d"
   ]
  },
  {
   "cell_type": "markdown",
   "metadata": {
    "slideshow": {
     "slide_type": "slide"
    }
   },
   "source": [
    "**collections.namedtuple(typename, field_names, ...)**: Named tuples assign meaning to each position in a tuple and allow for more readable, self-documenting code. They can be used wherever regular tuples are used, and they add the ability to access fields by name instead of position index."
   ]
  },
  {
   "cell_type": "code",
   "execution_count": null,
   "metadata": {},
   "outputs": [],
   "source": [
    "Student = collections.namedtuple('Student', 'name, surname, age')\n",
    "\n",
    "john = Student('John', 'Smith', '21')\n",
    "\n",
    "tuple(john)"
   ]
  },
  {
   "cell_type": "code",
   "execution_count": null,
   "metadata": {},
   "outputs": [],
   "source": [
    "john.age"
   ]
  },
  {
   "cell_type": "code",
   "execution_count": null,
   "metadata": {},
   "outputs": [],
   "source": [
    "str(john)"
   ]
  },
  {
   "cell_type": "markdown",
   "metadata": {
    "slideshow": {
     "slide_type": "slide"
    }
   },
   "source": [
    "**collections.deque([iterable[, maxlen]])**: Deques are a generalization of stacks and queues (the name is pronounced “deck” and is short for “double-ended queue”)"
   ]
  },
  {
   "cell_type": "code",
   "execution_count": null,
   "metadata": {},
   "outputs": [],
   "source": [
    "d = collections.deque()\n",
    "\n",
    "d.append('a')\n",
    "d.append('b')\n",
    "d.append('c')\n",
    "\n",
    "d"
   ]
  },
  {
   "cell_type": "code",
   "execution_count": null,
   "metadata": {},
   "outputs": [],
   "source": [
    "print(d.popleft())\n",
    "d"
   ]
  },
  {
   "cell_type": "code",
   "execution_count": null,
   "metadata": {},
   "outputs": [],
   "source": [
    "d.appendleft('Ghost!')\n",
    "d"
   ]
  },
  {
   "cell_type": "markdown",
   "metadata": {
    "slideshow": {
     "slide_type": "slide"
    }
   },
   "source": [
    "**collections.Counter([iterable-or-mapping])**: A Counter is a dict subclass for counting hashable objects."
   ]
  },
  {
   "cell_type": "code",
   "execution_count": null,
   "metadata": {},
   "outputs": [],
   "source": [
    "counts = collections.Counter('cowabunga')\n",
    "counts"
   ]
  },
  {
   "cell_type": "code",
   "execution_count": null,
   "metadata": {},
   "outputs": [],
   "source": [
    "counts.most_common(1)"
   ]
  },
  {
   "cell_type": "markdown",
   "metadata": {
    "slideshow": {
     "slide_type": "slide"
    }
   },
   "source": [
    "## Context managers\n",
    "\n",
    "Simplifies try/finally. Common usage:"
   ]
  },
  {
   "cell_type": "code",
   "execution_count": null,
   "metadata": {},
   "outputs": [],
   "source": [
    "with open('README.md') as f:\n",
    "    contents = f.read()\n",
    "\n",
    "f.closed"
   ]
  },
  {
   "cell_type": "markdown",
   "metadata": {
    "slideshow": {
     "slide_type": "slide"
    }
   },
   "source": [
    "### Context manager protocol"
   ]
  },
  {
   "cell_type": "code",
   "execution_count": null,
   "metadata": {},
   "outputs": [],
   "source": [
    "class MyContextManager:\n",
    "    def __enter__(self):\n",
    "        print(\"Entered\")\n",
    "        \n",
    "    def __exit__(self, exc_type, exc_value, traceback):\n",
    "        print(\"Exited with {}: {}\".format(exc_type, exc_value))\n",
    "        return True\n",
    "        \n",
    "with MyContextManager() as mycontext:\n",
    "    print(\"I'm ok\")"
   ]
  },
  {
   "cell_type": "code",
   "execution_count": null,
   "metadata": {
    "slideshow": {
     "slide_type": "slide"
    }
   },
   "outputs": [],
   "source": [
    "with MyContextManager() as mycontext:\n",
    "    raise Exception(\"Mayday, mayday!\")"
   ]
  },
  {
   "cell_type": "markdown",
   "metadata": {
    "slideshow": {
     "slide_type": "slide"
    }
   },
   "source": [
    "### Module 'contextlib'\n",
    "\n",
    "[Docs](https://docs.python.org/3/library/contextlib.html)\n",
    "\n",
    "**@contextlib.contextmanager**: This function is a decorator that can be used to define a factory function for with statement context managers, without needing to create a class or separate ```__enter__()``` and ```__exit__()``` methods."
   ]
  },
  {
   "cell_type": "code",
   "execution_count": null,
   "metadata": {},
   "outputs": [],
   "source": [
    "import contextlib\n",
    "\n",
    "@contextlib.contextmanager\n",
    "def tag(name):\n",
    "    print(\"<%s>\" % name)\n",
    "    yield name\n",
    "    print(\"</%s>\" % name)\n",
    "\n",
    "with tag(\"strong\") as tag1:\n",
    "    with tag(\"i\") as tag2:    \n",
    "        print(\"A title: {}/{}\".format(tag1, tag2))"
   ]
  },
  {
   "cell_type": "code",
   "execution_count": null,
   "metadata": {
    "slideshow": {
     "slide_type": "slide"
    }
   },
   "outputs": [],
   "source": [
    "@contextlib.contextmanager\n",
    "def tag(name):\n",
    "    print(\"<%s>\" % name)\n",
    "    try:\n",
    "        yield\n",
    "    except:\n",
    "        print(\"Got exception\")\n",
    "        \n",
    "    print(\"</%s>\" % name)\n",
    "\n",
    "with tag(\"strong\"):\n",
    "    raise Exception('Test')"
   ]
  },
  {
   "cell_type": "markdown",
   "metadata": {
    "slideshow": {
     "slide_type": "slide"
    }
   },
   "source": [
    "## Modules\n",
    "\n",
    "* The ```__init__.py``` files are required to make Python treat the directories as containing packages\n",
    "* ```__init__.py``` can just be an empty file, but it can also execute initialization code for the package or set the ```__all__``` variable"
   ]
  },
  {
   "cell_type": "markdown",
   "metadata": {
    "slideshow": {
     "slide_type": "slide"
    }
   },
   "source": [
    "Layout:\n",
    "\n",
    "```\n",
    "├── mymodule\n",
    "|   ├── mysubmodule\n",
    "│   │   ├── __init__.py\n",
    "|   ├── my.py\n",
    "|   ├── __init__.py\n",
    "```\n",
    "\n",
    "Example:\n",
    "\n",
    "```\n",
    "from mymodule.my import myfun\n",
    "from mymodule import submodule\n",
    "\n",
    "myfun()\n",
    "submodule.otherfun()\n",
    "```"
   ]
  },
  {
   "cell_type": "markdown",
   "metadata": {
    "slideshow": {
     "slide_type": "slide"
    }
   },
   "source": [
    "Module aliasing:\n",
    "    \n",
    "```\n",
    "import numpy as np\n",
    "\n",
    "np.zeros((3, 2))\n",
    "```\n",
    "\n",
    "Relative imports:\n",
    "```\n",
    "from . import echo\n",
    "from .. import formats\n",
    "from ..filters import equalizer\n",
    "```\n",
    "\n",
    "Import several packages:\n",
    "```\n",
    "import os, sys\n",
    "```"
   ]
  },
  {
   "cell_type": "markdown",
   "metadata": {
    "slideshow": {
     "slide_type": "slide"
    }
   },
   "source": [
    "The import statement uses the following convention: if a package’s ```__init__.py``` code defines a list named ```__all__```, it is taken to be the list of module names that should be imported when from package import * is encountered.\n",
    "\n",
    "If ```mymodule/mysubmodule/__init__.py``` contains\n",
    "```\n",
    "__all__ = [\"myfun\", \"otherfun\"]\n",
    "```\n",
    "\n",
    "This line:\n",
    "```\n",
    "from mymodule.mysubmodule import *\n",
    "```\n",
    "\n",
    "will import ```myfun``` and ```otherfun``` only. Wildcard imports are **bad practice**."
   ]
  },
  {
   "cell_type": "markdown",
   "metadata": {
    "slideshow": {
     "slide_type": "slide"
    }
   },
   "source": [
    "## Packages and environments\n",
    "\n",
    "It's the real pain, some terminology first:\n",
    "\n",
    "* **PyPI** is the default Package Index for the Python community: [pypi.org](https://pypi.org/)\n",
    "* **Egg**: A Built Distribution format introduced by **setuptools**, which is being replaced by **Wheel**\n",
    "* **Wheel**: A Built Distribution format introduced by PEP 427, which is intended to replace the **Egg** format. Wheel is currently supported by **pip**\n",
    "* **sdist**: A distribution format that provides metadata and the essential source files needed for installing by a tool like pip\n",
    "* **setup.py**: The project specification file for **distutils** and **setuptools**\n",
    "* **requirements.txt**: A file containing a list of requirements (dependencies) that can be installed using pip.\n",
    "\n",
    "\n",
    "\n"
   ]
  },
  {
   "cell_type": "markdown",
   "metadata": {
    "slideshow": {
     "slide_type": "slide"
    }
   },
   "source": [
    "### Packaging tools\n",
    "\n",
    "* **Distutils** is still the standard tool for packaging in Python. It is included in the standard library (Python 2 and Python 3.0 to 3.6). It is useful for simple Python distributions, but lacks features. It introduces the ```distutils``` Python package that can be imported in your setup.py script.\n",
    "* **Setuptools** was developed to overcome Distutils' limitations, and is not included in the standard library. It introduced a command-line utility called ```easy_install```. It also introduced the ```setuptools``` Python package that can be imported in your setup.py script, and the pkg_resources Python package that can be imported in your code to locate data files installed with a distribution. One of its gotchas is that it monkey-patches the ```distutils``` Python package. It should work well with ```pip```. It sees regular releases.\n",
    "* **Abandoned**: Distribute, Distutils2\n",
    "* **Alpha**: Distlib\n",
    "* **Alternatives**: Bento, Enscons\n",
    "\n",
    "[Stackoverflow](https://stackoverflow.com/questions/6344076/differences-between-distribute-distutils-setuptools-and-distutils2)"
   ]
  },
  {
   "cell_type": "markdown",
   "metadata": {
    "slideshow": {
     "slide_type": "slide"
    }
   },
   "source": [
    "### Package managers\n",
    "\n",
    "* **PyPi/setuptools**:\n",
    "    - ```easy_install```: 2004, install from Eggs, no uninstall packages, no Wheel support\n",
    "    - ```pip```: 2008, no install from Eggs, install from sdist or from Wheel recently, requirement files \n",
    "* **Anaconda**: ```conda```\n",
    "* **Spack**: ```spack```"
   ]
  },
  {
   "cell_type": "markdown",
   "metadata": {
    "slideshow": {
     "slide_type": "slide"
    }
   },
   "source": [
    "### Virtual environments\n",
    "\n",
    "* **Virtualenv**\n",
    "* **Pyenv**: forked from rbenv and ruby-build, and modified for Python.\n",
    "* **Anaconda**: package index + package manager + environment manager\n",
    "\n",
    "Alternatives:\n",
    "* docker\n",
    "* vagrant\n",
    "\n",
    "[Stackoverflow](https://stackoverflow.com/questions/38217545/the-different-between-pyenv-virtualenv-anaconda-in-python)"
   ]
  },
  {
   "cell_type": "markdown",
   "metadata": {
    "slideshow": {
     "slide_type": "slide"
    }
   },
   "source": [
    "## Anatomy of a package\n",
    "\n",
    "```\n",
    "├── foo\n",
    "│   ├── a_module.py\n",
    "│   ├── __init__.py\n",
    "├── README\n",
    "└── setup.py\n",
    "```\n",
    "\n",
    "setup.py:\n",
    "\n",
    "```\n",
    "from setuptools import setup\n",
    "\n",
    "setup(\n",
    "   name='foo',\n",
    "   version='1.0',\n",
    "   description='A useful module',\n",
    "   author='Man Foo',\n",
    "   author_email='foomail@foo.com',\n",
    "   packages=['foo'],\n",
    "   install_requires=['bar>=1', 'greek>=1,<2']\n",
    ")\n",
    "```\n",
    "\n",
    "To build & install package:\n",
    "\n",
    "```python setup.py build && python setup.py install```"
   ]
  },
  {
   "cell_type": "markdown",
   "metadata": {
    "slideshow": {
     "slide_type": "slide"
    }
   },
   "source": [
    "## Typical application\n",
    "\n",
    "```\n",
    "├── project\n",
    "│   ├── submodule\n",
    "│   │   ├── __init__.py\n",
    "│   │   ├── my.py\n",
    "│   ├── app.py\n",
    "│   ├── __init__.py\n",
    "└── requirements.txt\n",
    "```\n",
    "\n",
    "requirements.txt:\n",
    "\n",
    "```\n",
    "bar==0.12.2\n",
    "greek>=1\n",
    "-e git+git://github.com/path/to/repo@releases/3.7.1#egg=charlie\n",
    "```\n",
    "\n",
    "To install application dependencies:\n",
    "\n",
    "```pip install -r requirements.txt```"
   ]
  },
  {
   "cell_type": "markdown",
   "metadata": {
    "slideshow": {
     "slide_type": "slide"
    }
   },
   "source": [
    "## PIP guide\n",
    "\n",
    "[PIP docs](https://pip.pypa.io/en/stable/)\n",
    "\n",
    "* ```pip install <package>```\n",
    "* ```pip uninstall <package>```\n",
    "* Save from env: ```pip freeze > requirements.txt```\n",
    "* List outdated: ```pip list --outdated --format=freeze```\n",
    "* Upgrade all: ```pip freeze --local | grep -v '^\\-e' | cut -d = -f 1  | xargs -n1 pip install -U```"
   ]
  },
  {
   "cell_type": "markdown",
   "metadata": {
    "slideshow": {
     "slide_type": "slide"
    }
   },
   "source": [
    "## Anaconda\n",
    "\n",
    "* Environment manager\n",
    "* Binary packages (for any arch)\n",
    "* Community packages [Conda-Forge](https://conda-forge.org/)\n",
    "* Comes with scientific packages (or use miniconda)\n",
    "* Anaconda Navigator\n",
    "* Supports Python, R and Julia"
   ]
  },
  {
   "cell_type": "markdown",
   "metadata": {
    "slideshow": {
     "slide_type": "slide"
    }
   },
   "source": [
    "### environment.yml\n",
    "\n",
    "```\n",
    "name: myapp\n",
    "\n",
    "channels:\n",
    "  - conda-forge\n",
    "\n",
    "dependencies:\n",
    "  - python=3.6\n",
    "  - foo\n",
    "  - bar\n",
    "  - pip:\n",
    "    - pip-foo\n",
    "    - pip-bar\n",
    "    - git+git://github.com/path/to/repo@releases/3.7.1#egg=charlie\n",
    "```"
   ]
  },
  {
   "cell_type": "markdown",
   "metadata": {
    "slideshow": {
     "slide_type": "slide"
    }
   },
   "source": [
    "### Conda guide\n",
    "\n",
    "[Conda docs](https://conda.io/docs/user-guide/)\n",
    "\n",
    "* To create an environment with a specific version of Python and package foo:\n",
    "```conda create -n myenv python=3.6 foo```\n",
    "* Install package bar under myenv:\n",
    "```conda install -n myenv bar```\n",
    "* Create the environment from the environment.yml file:\n",
    "```conda env create -f environment.yml```\n",
    "* List packages installed under myenv:\n",
    "```conda list -n myenv```\n",
    "* List local environments:\n",
    "```conda env list```\n",
    "* Activate environment myenv:\n",
    "```source activate myenv```\n",
    "\n",
    "Once the environment is activated, you can skip specifying -n myenv. Pip will install packages under current env."
   ]
  },
  {
   "cell_type": "code",
   "execution_count": null,
   "metadata": {},
   "outputs": [],
   "source": []
  }
 ],
 "metadata": {
  "kernelspec": {
   "display_name": "Python 3",
   "language": "python",
   "name": "python3"
  },
  "language_info": {
   "codemirror_mode": {
    "name": "ipython",
    "version": 3
   },
   "file_extension": ".py",
   "mimetype": "text/x-python",
   "name": "python",
   "nbconvert_exporter": "python",
   "pygments_lexer": "ipython3",
   "version": "3.6.3"
  },
  "varInspector": {
   "cols": {
    "lenName": 16,
    "lenType": 16,
    "lenVar": 40
   },
   "kernels_config": {
    "python": {
     "delete_cmd_postfix": "",
     "delete_cmd_prefix": "del ",
     "library": "var_list.py",
     "varRefreshCmd": "print(var_dic_list())"
    },
    "r": {
     "delete_cmd_postfix": ") ",
     "delete_cmd_prefix": "rm(",
     "library": "var_list.r",
     "varRefreshCmd": "cat(var_dic_list()) "
    }
   },
   "types_to_exclude": [
    "module",
    "function",
    "builtin_function_or_method",
    "instance",
    "_Feature"
   ],
   "window_display": false
  }
 },
 "nbformat": 4,
 "nbformat_minor": 2
}
