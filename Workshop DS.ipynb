{
 "cells": [
  {
   "cell_type": "markdown",
   "metadata": {
    "slideshow": {
     "slide_type": "slide"
    }
   },
   "source": [
    "# Introduction to Python in Data Science\n",
    "\n",
    "> Data science, also known as data-driven science, is an interdisciplinary field about scientific methods, processes, and systems to extract knowledge or insights from data in various forms, either structured or unstructured...\n",
    "\n",
    "> Data science is a \"concept to unify statistics, data analysis and their related methods\" in order to \"understand and analyze actual phenomena\" with data. It employs techniques and theories drawn from many fields within the broad areas of mathematics, statistics, information science, and computer science, in particular from the subdomains of machine learning, classification, cluster analysis, data mining, databases, and visualization."
   ]
  },
  {
   "cell_type": "markdown",
   "metadata": {},
   "source": [
    "## History of Data Science\n",
    "\n",
    "* 1650-1700: origins of probability, term \"statistics\" coined. Pascal, Huygens.\n",
    "* 1700-1750: Jackob Bernoulli’s law of large numbers.\n",
    "* 1750-1800: conditional probability with applications to inverse probability or Bayesian inference.\n",
    "* 1800-1850: method of least squares (Legendre), central limit theorem (Laplace), Poisson, Gauss\n",
    "* 1850-1900: correlation, chi square, population, histogram, standard deviation, Pearson\n",
    "* 1900-1950: rank correlation, factor analysis (Spearman), time series, Markov chains, Student's (Gosset) t-distribution, hypotesis testing, discriminant analysis (Fisher), PCA (Hotelling), Kolmogorov-Smirnov test, Wilcoxon test\n",
    "* 1957: Fortran\n",
    "* 1958: Perceptron (Rosenblatt)\n",
    "* 1966: AI winter begin\n",
    "* 1975: Backpropagation, Tufte\n",
    "* 1984: Matlab\n",
    "* 1985: Boltzmann machine\n",
    "* 1987: Excel\n",
    "* 1991: Python\n",
    "* 1993: R\n",
    "* 1995: SVM\n",
    "* 1997: RNN\n",
    "* 1998: CNN (LeCun)\n",
    "* 1999: breakthrough in GPU\n",
    "* 2000: BigData era\n",
    "* 2006: Hadoop\n",
    "* 2008: Pandas\n",
    "* 2011: IPython (Jupyter)\n",
    "* 2012: Deep learning (Hinton, Ng) (AI winter end)\n",
    "* 2015: TensorFlow"
   ]
  },
  {
   "cell_type": "markdown",
   "metadata": {},
   "source": [
    "## What roles are in Data Science?\n",
    "\n",
    "Please take a look at infographics:\n",
    "\n",
    "[The Data Science Industry](https://www.datacamp.com/community/tutorials/data-science-industry-infographic)"
   ]
  },
  {
   "cell_type": "markdown",
   "metadata": {
    "slideshow": {
     "slide_type": "slide"
    }
   },
   "source": [
    "## Steps in typical Data Science project\n",
    "\n",
    "* Raw data extraction\n",
    "* Data wrangling\n",
    "* Exploratory data analysis\n",
    "* Knowledge extraction (machine learning, statistical models, algorithms)\n",
    "* Report"
   ]
  },
  {
   "cell_type": "markdown",
   "metadata": {
    "slideshow": {
     "slide_type": "slide"
    }
   },
   "source": [
    "## Data Visualization and Exploratory data analysis\n",
    "\n",
    "Diagram of the Causes of Mortality in the army in the East by **Florence Nightingale, 1855**\n",
    "\n",
    "![](http://historyofinformation.com/images/3815a%20Large.jpg)"
   ]
  },
  {
   "cell_type": "markdown",
   "metadata": {
    "slideshow": {
     "slide_type": "slide"
    }
   },
   "source": [
    "Carte figurative des pertes successives en hommes de l’Armée Française dans la campagne de Russie 1812-1813 by **Charles Minard, 1869**\n",
    "\n",
    "![](http://mapdesign.icaci.org/wp-content/uploads/2014/08/MapCarte237_minard_large.png)"
   ]
  },
  {
   "cell_type": "code",
   "execution_count": null,
   "metadata": {},
   "outputs": [],
   "source": []
  }
 ],
 "metadata": {
  "celltoolbar": "Slideshow",
  "kernelspec": {
   "display_name": "Python 3",
   "language": "python",
   "name": "python3"
  },
  "language_info": {
   "codemirror_mode": {
    "name": "ipython",
    "version": 3
   },
   "file_extension": ".py",
   "mimetype": "text/x-python",
   "name": "python",
   "nbconvert_exporter": "python",
   "pygments_lexer": "ipython3",
   "version": "3.6.3"
  },
  "varInspector": {
   "cols": {
    "lenName": 16,
    "lenType": 16,
    "lenVar": 40
   },
   "kernels_config": {
    "python": {
     "delete_cmd_postfix": "",
     "delete_cmd_prefix": "del ",
     "library": "var_list.py",
     "varRefreshCmd": "print(var_dic_list())"
    },
    "r": {
     "delete_cmd_postfix": ") ",
     "delete_cmd_prefix": "rm(",
     "library": "var_list.r",
     "varRefreshCmd": "cat(var_dic_list()) "
    }
   },
   "types_to_exclude": [
    "module",
    "function",
    "builtin_function_or_method",
    "instance",
    "_Feature"
   ],
   "window_display": false
  }
 },
 "nbformat": 4,
 "nbformat_minor": 2
}
