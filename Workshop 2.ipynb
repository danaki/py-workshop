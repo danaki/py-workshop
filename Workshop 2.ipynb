{
 "cells": [
  {
   "cell_type": "markdown",
   "metadata": {
    "slideshow": {
     "slide_type": "slide"
    }
   },
   "source": [
    "# Control structures and functions"
   ]
  },
  {
   "cell_type": "markdown",
   "metadata": {},
   "source": [
    "Python programs get structured through indentation, i.e. code blocks are defined by their indentation. Example:    "
   ]
  },
  {
   "cell_type": "code",
   "execution_count": null,
   "metadata": {},
   "outputs": [],
   "source": [
    "x = 2\n",
    "if x > 1:\n",
    "    print(\"Good!\")\n",
    "    x = 0"
   ]
  },
  {
   "cell_type": "markdown",
   "metadata": {
    "slideshow": {
     "slide_type": "slide"
    }
   },
   "source": [
    "Other languages use special syntax for blocks:\n",
    "\n",
    "```\n",
    "x = 2;\n",
    "if (x > 1) {\n",
    "    printf(\"Good!\");\n",
    "    x = 0;\n",
    "}\n",
    "```\n",
    "\n",
    "or\n",
    "\n",
    "```\n",
    "x := 2;\n",
    "if x > 1 then begin\n",
    "    writeln(\"Good!\");\n",
    "    x := 0;\n",
    "end\n",
    "```\n",
    "\n",
    "or\n",
    "\n",
    "```\n",
    "x=2\n",
    "if (( x > 1 )); then\n",
    "    echo \"Good\"\n",
    "    x=0\n",
    "fi\n",
    "```"
   ]
  },
  {
   "cell_type": "markdown",
   "metadata": {
    "slideshow": {
     "slide_type": "slide"
    }
   },
   "source": [
    "## PEP 8 -- Style Guide for Python Code\n",
    "\n",
    "[PEP 8](https://www.python.org/dev/peps/pep-0008/)"
   ]
  },
  {
   "cell_type": "markdown",
   "metadata": {
    "slideshow": {
     "slide_type": "slide"
    }
   },
   "source": [
    "### PEP 8: Naming conventions\n",
    "\n",
    "Descriptive: Naming Styles\n",
    "\n",
    "There are a lot of different naming styles. It helps to be able to recognize what naming style is being used, independently from what they are used for.\n",
    "\n",
    "The following naming styles are commonly distinguished:\n",
    "\n",
    "* b (single lowercase letter)\n",
    "* B (single uppercase letter)\n",
    "* lowercase\n",
    "* lower_case_with_underscores\n",
    "* UPPERCASE\n",
    "* UPPER_CASE_WITH_UNDERSCORES\n",
    "* CapitalizedWords (or CapWords, or CamelCase -- so named because of the bumpy look of its letters). This is also sometimes known as StudlyCaps.\n",
    "\n",
    "Note: When using abbreviations in CapWords, capitalize all the letters of the abbreviation. Thus HTTPServerError is better than HttpServerError.\n",
    "\n",
    "* mixedCase (differs from CapitalizedWords by initial lowercase character!)\n",
    "* Capitalized_Words_With_Underscores (ugly!)"
   ]
  },
  {
   "cell_type": "markdown",
   "metadata": {
    "slideshow": {
     "slide_type": "slide"
    }
   },
   "source": [
    "[Myths about Indentation](http://www.secnetix.de/olli/Python/block_indentation.hawk)\n",
    "\n",
    "* Spaces do really matter only inside blocks. You can format everything else as you wish.\n",
    "* You can mix tabs and spaces (but please don't)\n",
    "* Python doesn't care how many spaces you use, it cares only if spaces are not aligned inside a block. Example:"
   ]
  },
  {
   "cell_type": "code",
   "execution_count": null,
   "metadata": {},
   "outputs": [],
   "source": [
    "if True:\n",
    "    print(\"***\")\n",
    "    print(dict(\n",
    "        ok='Good boy!',\n",
    "  not_ok='This is stupid'\n",
    "    ))"
   ]
  },
  {
   "cell_type": "markdown",
   "metadata": {
    "slideshow": {
     "slide_type": "slide"
    }
   },
   "source": [
    "![](http://i.imgur.com/uglqmy5.gif)\n"
   ]
  },
  {
   "cell_type": "markdown",
   "metadata": {},
   "source": [
    "### PEP 8: Indentation\n",
    "* Use 4 spaces per indentation level.\n",
    "* Spaces are the preferred indentation method.\n",
    "* Python 3 disallows mixing the use of tabs and spaces for indentation."
   ]
  },
  {
   "cell_type": "markdown",
   "metadata": {
    "slideshow": {
     "slide_type": "slide"
    }
   },
   "source": [
    "You can do this in Python:"
   ]
  },
  {
   "cell_type": "code",
   "execution_count": null,
   "metadata": {},
   "outputs": [],
   "source": [
    "if True: print(\"Good\")"
   ]
  },
  {
   "cell_type": "markdown",
   "metadata": {},
   "source": [
    "This hurts me much:"
   ]
  },
  {
   "cell_type": "code",
   "execution_count": null,
   "metadata": {},
   "outputs": [],
   "source": [
    "if True:\n",
    "    print(\"Very\"); print(\"Very\"); print(\"Good\")"
   ]
  },
  {
   "cell_type": "markdown",
   "metadata": {
    "slideshow": {
     "slide_type": "slide"
    }
   },
   "source": [
    "### PEP 8: Compound statements\n",
    "\n",
    "Compound statements (multiple statements on the same line) are generally discouraged.\n",
    "\n",
    "Yes:\n",
    "\n",
    "```\n",
    "if foo == 'blah':\n",
    "    do_blah_thing()\n",
    "do_one()\n",
    "do_two()\n",
    "do_three()\n",
    "```\n",
    "\n",
    "Rather not:\n",
    "\n",
    "```\n",
    "if foo == 'blah': do_blah_thing()\n",
    "do_one(); do_two(); do_three()\n",
    "```"
   ]
  },
  {
   "cell_type": "markdown",
   "metadata": {
    "slideshow": {
     "slide_type": "slide"
    }
   },
   "source": [
    "Sometimes you want it on multiple lines, use \"\\\" in the end of the line:"
   ]
  },
  {
   "cell_type": "code",
   "execution_count": null,
   "metadata": {},
   "outputs": [],
   "source": [
    "x = y = z = True\n",
    "if x is True \\\n",
    "       and y is True \\\n",
    "       and z is True:\n",
    "   print(\"True true true\")"
   ]
  },
  {
   "cell_type": "markdown",
   "metadata": {
    "slideshow": {
     "slide_type": "slide"
    }
   },
   "source": [
    "If you have nothing to say yet, use **pass**:"
   ]
  },
  {
   "cell_type": "code",
   "execution_count": null,
   "metadata": {},
   "outputs": [],
   "source": [
    "if True:\n",
    "    pass"
   ]
  },
  {
   "cell_type": "markdown",
   "metadata": {
    "slideshow": {
     "slide_type": "slide"
    }
   },
   "source": [
    "## if-elif-else\n",
    "\n",
    "```\n",
    "if <conditional>:\n",
    "    [block if true]\n",
    "else:\n",
    "    [block if false]\n",
    "```\n",
    "\n",
    "Bad example (to make sure \"else\" also works):"
   ]
  },
  {
   "cell_type": "code",
   "execution_count": null,
   "metadata": {},
   "outputs": [],
   "source": [
    "dogs = 101\n",
    "if dogs != 101:\n",
    "    print(\"Not dalmatians\")\n",
    "else:\n",
    "    print(\"dalmatians\")"
   ]
  },
  {
   "cell_type": "markdown",
   "metadata": {},
   "source": [
    "Don't start your \"if\" blocks with negation, better swap \"if true\" and \"if false\" blocks:"
   ]
  },
  {
   "cell_type": "code",
   "execution_count": null,
   "metadata": {},
   "outputs": [],
   "source": [
    "if dogs == 101:\n",
    "    print(\"dalmatians\")\n",
    "else:\n",
    "    print(\"Not dalmatians\")    "
   ]
  },
  {
   "cell_type": "markdown",
   "metadata": {
    "slideshow": {
     "slide_type": "slide"
    }
   },
   "source": [
    "Sometimes you have to check several conditions in a row (or emulate switch/case). Another bad example:"
   ]
  },
  {
   "cell_type": "code",
   "execution_count": null,
   "metadata": {},
   "outputs": [],
   "source": [
    "movie = 'Terminator'\n",
    "\n",
    "if movie == 'Alien':\n",
    "    director = 'Ridley Scott'\n",
    "elif movie == 'Twin Peaks':\n",
    "    director = 'David Lynch'\n",
    "elif movie == 'Terminator':\n",
    "    director = 'James Cameron'\n",
    "else:\n",
    "    director = 'I GIVE UP'\n",
    "\n",
    "director"
   ]
  },
  {
   "cell_type": "markdown",
   "metadata": {},
   "source": [
    "Better do with dictionaries:"
   ]
  },
  {
   "cell_type": "code",
   "execution_count": null,
   "metadata": {},
   "outputs": [],
   "source": [
    "directors = {\n",
    "    'Alien': 'Ridley Scott',\n",
    "    'Twin Peaks': 'David Lynch',\n",
    "    'Terminator': 'James Cameron'\n",
    "}\n",
    "\n",
    "directors.get('Terminator', 'I GIVE UP')"
   ]
  },
  {
   "cell_type": "markdown",
   "metadata": {
    "collapsed": true,
    "slideshow": {
     "slide_type": "slide"
    }
   },
   "source": [
    "### Conditional (ternary) operator\n",
    "\n",
    "In C-like languages:\n",
    "```\n",
    "<conditional> ? [value if true] : [value if false]\n",
    "```\n",
    "\n",
    "In Python:\n",
    "```\n",
    "[value if true] if <conditional> else [value if false]\n",
    "```"
   ]
  },
  {
   "cell_type": "code",
   "execution_count": null,
   "metadata": {},
   "outputs": [],
   "source": [
    "x = 1\n",
    "'x is positive' if x > 0 else 'x is negative or zero'"
   ]
  },
  {
   "cell_type": "markdown",
   "metadata": {
    "slideshow": {
     "slide_type": "slide"
    }
   },
   "source": [
    "## for loop\n",
    "\n",
    "```\n",
    "for <value> in <iterable>:\n",
    "    [block]\n",
    "```"
   ]
  },
  {
   "cell_type": "code",
   "execution_count": null,
   "metadata": {},
   "outputs": [],
   "source": [
    "for i in range(5):\n",
    "    print(i)"
   ]
  },
  {
   "cell_type": "markdown",
   "metadata": {
    "slideshow": {
     "slide_type": "slide"
    }
   },
   "source": [
    "> Rather than being a function, range is actually an immutable sequence type\n",
    "\n",
    "* range(stop)\n",
    "* range(start, stop[, step])"
   ]
  },
  {
   "cell_type": "code",
   "execution_count": null,
   "metadata": {},
   "outputs": [],
   "source": [
    "range(10)"
   ]
  },
  {
   "cell_type": "code",
   "execution_count": null,
   "metadata": {},
   "outputs": [],
   "source": [
    "list(range(10))"
   ]
  },
  {
   "cell_type": "code",
   "execution_count": null,
   "metadata": {},
   "outputs": [],
   "source": [
    "list(range(10, 20))"
   ]
  },
  {
   "cell_type": "markdown",
   "metadata": {
    "slideshow": {
     "slide_type": "slide"
    }
   },
   "source": [
    "Ooops..."
   ]
  },
  {
   "cell_type": "code",
   "execution_count": null,
   "metadata": {},
   "outputs": [],
   "source": [
    "list(range(20, 10))"
   ]
  },
  {
   "cell_type": "code",
   "execution_count": null,
   "metadata": {},
   "outputs": [],
   "source": [
    "list(range(20, 10, -1))"
   ]
  },
  {
   "cell_type": "markdown",
   "metadata": {
    "slideshow": {
     "slide_type": "slide"
    }
   },
   "source": [
    "No need to check for iterable emptiness, use \"else\""
   ]
  },
  {
   "cell_type": "code",
   "execution_count": null,
   "metadata": {},
   "outputs": [],
   "source": [
    "for i in []:\n",
    "    print(i)\n",
    "else:\n",
    "    print(\"Empty list\")"
   ]
  },
  {
   "cell_type": "markdown",
   "metadata": {
    "slideshow": {
     "slide_type": "slide"
    }
   },
   "source": [
    "To break the loop earlier, use \"break\" from the body:"
   ]
  },
  {
   "cell_type": "code",
   "execution_count": null,
   "metadata": {},
   "outputs": [],
   "source": [
    "for i in range(-5, 10):  \n",
    "    if i == 0:\n",
    "        break\n",
    "    print(i)        "
   ]
  },
  {
   "cell_type": "markdown",
   "metadata": {
    "slideshow": {
     "slide_type": "slide"
    }
   },
   "source": [
    "To continue interation (skip block contents) use \"continue\": "
   ]
  },
  {
   "cell_type": "code",
   "execution_count": null,
   "metadata": {},
   "outputs": [],
   "source": [
    "for i in range(-5, 10):\n",
    "    if i % 2:\n",
    "        continue\n",
    "    print(i)"
   ]
  },
  {
   "cell_type": "markdown",
   "metadata": {
    "slideshow": {
     "slide_type": "slide"
    }
   },
   "source": [
    "Iterable can be virtually anything (that supports iterable protocol, will talk about it later):"
   ]
  },
  {
   "cell_type": "code",
   "execution_count": null,
   "metadata": {},
   "outputs": [],
   "source": [
    "for s in ['apple', 'banana', 'cherry']:\n",
    "    print(s)"
   ]
  },
  {
   "cell_type": "markdown",
   "metadata": {},
   "source": [
    "Remember, strings are iterable by characters:"
   ]
  },
  {
   "cell_type": "code",
   "execution_count": null,
   "metadata": {},
   "outputs": [],
   "source": [
    "for ch in 'Orc':\n",
    "    print(ch)"
   ]
  },
  {
   "cell_type": "markdown",
   "metadata": {
    "slideshow": {
     "slide_type": "slide"
    }
   },
   "source": [
    "Both \"break\" and \"continue\" affect current loop only."
   ]
  },
  {
   "cell_type": "code",
   "execution_count": null,
   "metadata": {},
   "outputs": [],
   "source": [
    "for i in 'abcdefgh':\n",
    "    if i > 'c':\n",
    "        print('=' * 10 + \" breaking outer loop\")        \n",
    "        break\n",
    "    \n",
    "    for j in range(1, 100):\n",
    "        if j > 3:\n",
    "            print('-' * 10 + \" breaking inner loop\")            \n",
    "            break\n",
    "\n",
    "        print(\"i={}, j={}\".format(i, j))"
   ]
  },
  {
   "cell_type": "markdown",
   "metadata": {
    "slideshow": {
     "slide_type": "slide"
    }
   },
   "source": [
    "### ❗🐍  Exercise: \"prime numbers\"\n",
    "\n",
    "> A prime number (or a prime) is a natural number greater than 1 that has no positive divisors other than 1 and itself.\n",
    "\n",
    "Your task is to find all prime numbers in a range from 1 to 100."
   ]
  },
  {
   "cell_type": "code",
   "execution_count": null,
   "metadata": {},
   "outputs": [],
   "source": [
    "for i in range(1, 100):\n",
    "    pass"
   ]
  },
  {
   "cell_type": "markdown",
   "metadata": {
    "slideshow": {
     "slide_type": "slide"
    }
   },
   "source": [
    "## while loop\n",
    "\n",
    "```\n",
    "while <conditional>:\n",
    "    [block]\n",
    "```\n",
    "\n",
    "Use it when you don't know the exact number of iterations."
   ]
  },
  {
   "cell_type": "code",
   "execution_count": null,
   "metadata": {},
   "outputs": [],
   "source": [
    "i = 5\n",
    "while i > 0:\n",
    "    print(i)\n",
    "    i -= 1"
   ]
  },
  {
   "cell_type": "markdown",
   "metadata": {
    "slideshow": {
     "slide_type": "slide"
    }
   },
   "source": [
    "Loop control keywords \"break\" and \"continue\" also can be used. Common pattern \"while True\":"
   ]
  },
  {
   "cell_type": "code",
   "execution_count": null,
   "metadata": {},
   "outputs": [],
   "source": [
    "i = 0\n",
    "while True:\n",
    "    i += 1\n",
    "    if i % 2:\n",
    "        continue\n",
    "    if i > 10:\n",
    "        break\n",
    "    print(i)"
   ]
  },
  {
   "cell_type": "markdown",
   "metadata": {
    "slideshow": {
     "slide_type": "slide"
    }
   },
   "source": [
    "\"else\" block is executed if ```<conditional>``` evaluates to false"
   ]
  },
  {
   "cell_type": "code",
   "execution_count": null,
   "metadata": {},
   "outputs": [],
   "source": [
    "i = 0\n",
    "while i < 5:\n",
    "    i += 1\n",
    "    print(i)\n",
    "else:\n",
    "    print(\"End\")"
   ]
  },
  {
   "cell_type": "markdown",
   "metadata": {
    "slideshow": {
     "slide_type": "slide"
    }
   },
   "source": [
    "However it won't be executed if loop is interrupted."
   ]
  },
  {
   "cell_type": "code",
   "execution_count": null,
   "metadata": {},
   "outputs": [],
   "source": [
    "i = 0\n",
    "while True:\n",
    "    i += 1\n",
    "    print(i)    \n",
    "    if i > 5:\n",
    "        break\n",
    "else:\n",
    "    print(\"End\")"
   ]
  },
  {
   "cell_type": "markdown",
   "metadata": {
    "slideshow": {
     "slide_type": "slide"
    }
   },
   "source": [
    "### ❗🐍  Exercise: \"Euclidean algorithm\"\n",
    "\n",
    "> Euclid of Alexandria was a Greek mathematician, often referred to as the \"father of geometry\". He was active in Alexandria during the reign of Ptolemy I (323–283 BC).\n",
    "\n",
    "[Euclidean_algorithm](https://en.wikipedia.org/wiki/Euclidean_algorithm)\n",
    "\n",
    "Find Greatest Common Divisor (GCD) of two numbers. Example:\n",
    "```\n",
    "A = 40\n",
    "B = 15\n",
    "GCD(A, B) = 5\n",
    "```\n",
    "\n",
    "For curious, here's a good explanation: https://www.youtube.com/watch?v=XL8XHUCJqlY"
   ]
  },
  {
   "cell_type": "markdown",
   "metadata": {
    "slideshow": {
     "slide_type": "slide"
    }
   },
   "source": [
    "Intuition (assume A > B):\n",
    "\n",
    "* Let $X = GDC(A, B) = ?$, then $A = X * t_{XA}$ and $B = X * t_{XB}$\n",
    "* But $A = B * t_{AB} + R$\n",
    "* If $R == 0$ then $X = B \\rightarrow Exit$\n",
    "* Else $R = X * t_{XR}$, e.g $X = GDC(A, B) = GDC(A, R) = GDC(B, R)$\n",
    "* Let $A = B$ and $B = R$ and start over\n",
    "\n",
    "Example: $X = GDC(40, 15)$\n",
    "\n",
    "![](http://mathandmultimedia.com/wp-content/uploads/2014/07/euclidean-algorithm-geometry.png)"
   ]
  },
  {
   "cell_type": "code",
   "execution_count": null,
   "metadata": {
    "slideshow": {
     "slide_type": "slide"
    }
   },
   "outputs": [],
   "source": [
    "A = 55\n",
    "B = 15\n",
    "\n",
    "R = A % B\n",
    "print(\"A = {}, B = {}, R = {}\".format(A, B, R))\n",
    "\n",
    "A = B\n",
    "B = R\n",
    "\n",
    "R = A % B\n",
    "\n",
    "print(\"A = {}, B = {}, R = {}\".format(A, B, R))\n",
    "\n",
    "A = B\n",
    "B = R\n",
    "\n",
    "R = A % B\n",
    "\n",
    "print(\"A = {}, B = {}, R = {}\".format(A, B, R))\n",
    "print(\"X = B = {}\".format(B))"
   ]
  },
  {
   "cell_type": "markdown",
   "metadata": {
    "slideshow": {
     "slide_type": "slide"
    }
   },
   "source": [
    "Implement Euclidean algorithm to compute Greatest Common Divisor of any two numbers:"
   ]
  },
  {
   "cell_type": "code",
   "execution_count": null,
   "metadata": {},
   "outputs": [],
   "source": [
    "A = ?\n",
    "B = ?\n",
    "\n",
    "while True:\n",
    "    pass"
   ]
  },
  {
   "cell_type": "markdown",
   "metadata": {
    "slideshow": {
     "slide_type": "slide"
    }
   },
   "source": [
    "## Functions\n",
    "\n",
    "```\n",
    "def <name>(<arguments>):\n",
    "    [body]\n",
    "```"
   ]
  },
  {
   "cell_type": "code",
   "execution_count": null,
   "metadata": {},
   "outputs": [],
   "source": [
    "def nothing_speshal():\n",
    "    pass\n",
    "\n",
    "nothing_speshal()"
   ]
  },
  {
   "cell_type": "code",
   "execution_count": null,
   "metadata": {},
   "outputs": [],
   "source": [
    "nothing_speshal"
   ]
  },
  {
   "cell_type": "code",
   "execution_count": null,
   "metadata": {},
   "outputs": [],
   "source": [
    "type(nothing_speshal)"
   ]
  },
  {
   "cell_type": "markdown",
   "metadata": {
    "slideshow": {
     "slide_type": "slide"
    }
   },
   "source": [
    "Functions have it's own scope. In example below a new variable 'x' is created and then destroyed on exit."
   ]
  },
  {
   "cell_type": "code",
   "execution_count": null,
   "metadata": {},
   "outputs": [],
   "source": [
    "x = 'Blah'\n",
    "\n",
    "def fun1():\n",
    "    x = 'Boo!'\n",
    "    print(\"In function: \" + x)\n",
    "\n",
    "fun1()\n",
    "print(\"Outside: \" + x)"
   ]
  },
  {
   "cell_type": "markdown",
   "metadata": {
    "slideshow": {
     "slide_type": "slide"
    }
   },
   "source": [
    "However, functions have access to outer scope.\n",
    "\n",
    "Outer scope has no access to inner scope (except closures, will talk about it later)"
   ]
  },
  {
   "cell_type": "code",
   "execution_count": null,
   "metadata": {},
   "outputs": [],
   "source": [
    "x = 'Blah'\n",
    "\n",
    "def outer_scope_accessor():\n",
    "    print(\"In function: \" + x)\n",
    "\n",
    "outer_scope_accessor()\n",
    "print(\"Outside: \" + x)"
   ]
  },
  {
   "cell_type": "markdown",
   "metadata": {
    "slideshow": {
     "slide_type": "slide"
    }
   },
   "source": [
    "But! If you try to change outer scope variable from function scope, a new variable in function scope will be created!\n",
    "\n",
    "Use \"global\", but it is considered a bad practice. If function changes anything in outer scope it is called \"side effect\" and is an error prone tactics."
   ]
  },
  {
   "cell_type": "code",
   "execution_count": null,
   "metadata": {},
   "outputs": [],
   "source": [
    "x = 'Blah'\n",
    "\n",
    "def global_mess_maker():\n",
    "    global x\n",
    "    \n",
    "    print(\"In function (before): \" + x)\n",
    "    x = 'Boo!'\n",
    "    print(\"In function (after): \" + x)\n",
    "    \n",
    "global_mess_maker()\n",
    "print(\"Outside: \" + x)"
   ]
  },
  {
   "cell_type": "markdown",
   "metadata": {
    "slideshow": {
     "slide_type": "slide"
    }
   },
   "source": [
    "Functions usualy return results:"
   ]
  },
  {
   "cell_type": "code",
   "execution_count": null,
   "metadata": {},
   "outputs": [],
   "source": [
    "def return_report():\n",
    "    return \"Here, I'm done\"\n",
    "\n",
    "x = return_report()\n",
    "x"
   ]
  },
  {
   "cell_type": "markdown",
   "metadata": {
    "slideshow": {
     "slide_type": "slide"
    }
   },
   "source": [
    "If you need to return several values, this is what tuple()'s are for:"
   ]
  },
  {
   "cell_type": "code",
   "execution_count": null,
   "metadata": {},
   "outputs": [],
   "source": [
    "def return_multuple():\n",
    "    return 1, ('a', 'b')\n",
    "\n",
    "x, (a, b) = return_multuple()\n",
    "\n",
    "print(x)\n",
    "print(a)\n",
    "print(b)"
   ]
  },
  {
   "cell_type": "markdown",
   "metadata": {
    "slideshow": {
     "slide_type": "slide"
    }
   },
   "source": [
    "Functions accept arguments:"
   ]
  },
  {
   "cell_type": "code",
   "execution_count": null,
   "metadata": {},
   "outputs": [],
   "source": [
    "def multiply(arg1, arg2):\n",
    "    return arg1 * arg2\n",
    "\n",
    "multiply(4, 5)"
   ]
  },
  {
   "cell_type": "markdown",
   "metadata": {
    "slideshow": {
     "slide_type": "slide"
    }
   },
   "source": [
    "Arguments may have default values (in case if missed in a call):"
   ]
  },
  {
   "cell_type": "code",
   "execution_count": null,
   "metadata": {},
   "outputs": [],
   "source": [
    "def note_on_a_fence(name1, name2, feeling=\"LOVE <3\"):\n",
    "    return \"{} + {} = {}\".format(name1, name2, feeling)\n",
    "\n",
    "note_on_a_fence(\"Petya\", \"Masha\")"
   ]
  },
  {
   "cell_type": "markdown",
   "metadata": {},
   "source": [
    "Default argument is used only if missed:"
   ]
  },
  {
   "cell_type": "code",
   "execution_count": null,
   "metadata": {},
   "outputs": [],
   "source": [
    "note_on_a_fence(\"Masha\", \"Natasha\", \"HATE\")"
   ]
  },
  {
   "cell_type": "markdown",
   "metadata": {
    "slideshow": {
     "slide_type": "slide"
    }
   },
   "source": [
    "### PEP 8: Spaces for keyword arguments\n",
    "\n",
    "Don't use spaces around the = sign when used to indicate a keyword argument or a default parameter value.\n",
    "\n",
    "Yes:\n",
    "\n",
    "```\n",
    "def complex(real, imag=0.0):\n",
    "    return magic(r=real, i=imag)\n",
    "```\n",
    "\n",
    "No:\n",
    "\n",
    "```\n",
    "def complex(real, imag = 0.0):\n",
    "    return magic(r = real, i = imag) \n",
    "```"
   ]
  },
  {
   "cell_type": "markdown",
   "metadata": {
    "slideshow": {
     "slide_type": "slide"
    }
   },
   "source": [
    "You can mix the order of arguments as long as you provide its names (but please don't):"
   ]
  },
  {
   "cell_type": "code",
   "execution_count": null,
   "metadata": {},
   "outputs": [],
   "source": [
    "note_on_a_fence(feeling=\"Curiosity\", name2=\"You\", name1=\"Python\")"
   ]
  },
  {
   "cell_type": "markdown",
   "metadata": {
    "slideshow": {
     "slide_type": "slide"
    }
   },
   "source": [
    "BUT! Default arguments are instantiated only once! This is where you love the immutability."
   ]
  },
  {
   "cell_type": "code",
   "execution_count": null,
   "metadata": {},
   "outputs": [],
   "source": [
    "def buggy_default(arr=[]):\n",
    "    arr.append('Element')\n",
    "    return arr\n",
    "    \n",
    "print(buggy_default())\n",
    "print(buggy_default())\n",
    "print(buggy_default())"
   ]
  },
  {
   "cell_type": "markdown",
   "metadata": {
    "slideshow": {
     "slide_type": "slide"
    }
   },
   "source": [
    "Since everything is an object and objects are passed by reference, a function can have side effects even without accessing the outer scope!"
   ]
  },
  {
   "cell_type": "code",
   "execution_count": null,
   "metadata": {},
   "outputs": [],
   "source": [
    "def list_appender(arr):\n",
    "    arr.append('Appended')\n",
    "    \n",
    "mylist = list()\n",
    "\n",
    "list_appender(mylist)\n",
    "list_appender(mylist)\n",
    "list_appender(mylist)\n",
    "\n",
    "print(mylist)"
   ]
  },
  {
   "cell_type": "markdown",
   "metadata": {
    "slideshow": {
     "slide_type": "slide"
    }
   },
   "source": [
    "### ❗🐍  Exercise: \"quadratic equation\"\n",
    "\n",
    "Do you remember these formulas from school times?\n",
    "\n",
    "$$\\begin{array}{*{20}c} {x = \\frac{{ - b \\pm \\sqrt {b^2 - 4ac} }}{{2a}}} & {{\\rm{when}}} & {ax^2 + bx + c = 0} \\\\ \\end{array}$$\n",
    "\n",
    "Your task is to create a function that returns roots of the quadratic equation."
   ]
  },
  {
   "cell_type": "code",
   "execution_count": null,
   "metadata": {},
   "outputs": [],
   "source": [
    "from math import sqrt\n",
    "\n",
    "# use sqrt() to compute square root like so: sqrt(9)\n",
    "\n",
    "def roots(a, b, c):\n",
    "    pass"
   ]
  },
  {
   "cell_type": "markdown",
   "metadata": {
    "slideshow": {
     "slide_type": "slide"
    }
   },
   "source": [
    "Functions can define functions in it's own scope:"
   ]
  },
  {
   "cell_type": "code",
   "execution_count": null,
   "metadata": {},
   "outputs": [],
   "source": [
    "def outer_function(number):\n",
    "    def multiply(arg1, arg2):\n",
    "        return arg1 * arg2\n",
    "\n",
    "    return multiply(number, 10)\n",
    "\n",
    "outer_function(5)"
   ]
  },
  {
   "cell_type": "markdown",
   "metadata": {},
   "source": [
    "Better example (names starting with undescore never imported):"
   ]
  },
  {
   "cell_type": "code",
   "execution_count": null,
   "metadata": {},
   "outputs": [],
   "source": [
    "def _multiply(arg1, arg2):\n",
    "    return arg1 * arg2\n",
    "\n",
    "def outer_function(number):\n",
    "    return _multiply(number, 10)\n",
    "\n",
    "outer_function(5)"
   ]
  },
  {
   "cell_type": "markdown",
   "metadata": {
    "slideshow": {
     "slide_type": "slide"
    }
   },
   "source": [
    "Functions can even return functions whose scope is not destroyed, this is called a **closure**."
   ]
  },
  {
   "cell_type": "code",
   "execution_count": null,
   "metadata": {},
   "outputs": [],
   "source": [
    "def closure_factory(number):\n",
    "    def exponent(power):\n",
    "        return number ** power\n",
    "\n",
    "    return exponent\n",
    "\n",
    "\n",
    "closure = closure_factory(10)\n",
    "\n",
    "# now closure contains function 'exponent' with '10' remembered in it's scope\n",
    "print(closure)\n",
    "print(closure(3))"
   ]
  },
  {
   "cell_type": "markdown",
   "metadata": {
    "slideshow": {
     "slide_type": "slide"
    }
   },
   "source": [
    "Functions can be passed in arguments:"
   ]
  },
  {
   "cell_type": "code",
   "execution_count": null,
   "metadata": {},
   "outputs": [],
   "source": [
    "def call_me_later():\n",
    "    print(\"call_me_later\")\n",
    "    \n",
    "def call_me_now(f):\n",
    "    print(\"call_me_now\")\n",
    "    f()\n",
    "    \n",
    "x = call_me_later\n",
    "call_me_now(x)"
   ]
  },
  {
   "cell_type": "markdown",
   "metadata": {
    "slideshow": {
     "slide_type": "slide"
    }
   },
   "source": [
    "Function can accept variable number of arguments:"
   ]
  },
  {
   "cell_type": "code",
   "execution_count": null,
   "metadata": {},
   "outputs": [],
   "source": [
    "def many_arguments(required_arg, *args):\n",
    "    print(required_arg)\n",
    "    print(args)\n",
    "    \n",
    "many_arguments(\"1\")"
   ]
  },
  {
   "cell_type": "code",
   "execution_count": null,
   "metadata": {},
   "outputs": [],
   "source": [
    "many_arguments(\"1\", \"a\", \"b\", \"c\")"
   ]
  },
  {
   "cell_type": "markdown",
   "metadata": {
    "slideshow": {
     "slide_type": "slide"
    }
   },
   "source": [
    "Optional named arguments also can be passed in a dict:"
   ]
  },
  {
   "cell_type": "code",
   "execution_count": null,
   "metadata": {},
   "outputs": [],
   "source": [
    "def many_named_arguments(required_arg, **kwargs):\n",
    "    print(required_arg)\n",
    "    print(kwargs)\n",
    "    \n",
    "many_named_arguments(\"Director:\", name=\"Steve\", surname=\"Jobs\", position=\"CEO\")"
   ]
  },
  {
   "cell_type": "markdown",
   "metadata": {
    "slideshow": {
     "slide_type": "slide"
    }
   },
   "source": [
    "Most common case. Python will collect all unknown unnamed arguments to ```*args```, and keyword arguments to ```**kwargs```:"
   ]
  },
  {
   "cell_type": "code",
   "execution_count": null,
   "metadata": {},
   "outputs": [],
   "source": [
    "def common_case(arg1, arg2, *args, **kwargs):\n",
    "    print(\"Required 1: \" + arg1)\n",
    "    print(\"Required 2: \" + arg2)\n",
    "    print()\n",
    "    \n",
    "    for i, v in enumerate(args):\n",
    "        print(\"Optional {}: {}\".format(i, v))\n",
    "        \n",
    "    print()        \n",
    "    \n",
    "    for k, v in kwargs.items():\n",
    "        print(\"Keyword '{}': {}\".format(k, v))\n",
    "        \n",
    "common_case(\"First\", \"Second\", \"Third\", \"Fourth\", another=\"Fifth\", yet_another=\"Sixth\")"
   ]
  },
  {
   "cell_type": "markdown",
   "metadata": {
    "slideshow": {
     "slide_type": "slide"
    }
   },
   "source": [
    "Opposite trick, you can expand list and dict to function ```*args``` and ```**kwargs``` like so:"
   ]
  },
  {
   "cell_type": "code",
   "execution_count": null,
   "metadata": {},
   "outputs": [],
   "source": [
    "mylist = [\n",
    "    'Franklin',\n",
    "    'Lincoln'\n",
    "]\n",
    "\n",
    "mydict = {\n",
    "    'lady': 'Gaga',\n",
    "    'mr': 'Holmes'\n",
    "}\n",
    "\n",
    "# 'Obama' will be merged to *args, and 'mrs=Hudson' to **kwargs\n",
    "common_case('R1', 'R2', 'Obama', mrs='Hudson', *mylist, **mydict)"
   ]
  },
  {
   "cell_type": "markdown",
   "metadata": {
    "slideshow": {
     "slide_type": "slide"
    }
   },
   "source": [
    "### PEP 257 -- Documentation Strings\n",
    "\n",
    "[PEP 257](https://www.python.org/dev/peps/pep-0257/)"
   ]
  },
  {
   "cell_type": "code",
   "execution_count": null,
   "metadata": {},
   "outputs": [],
   "source": [
    "def mycomplex(real=0.0, imag=0.0):\n",
    "    \"\"\"Form a complex number.\n",
    "\n",
    "    Keyword arguments:\n",
    "    real -- the real part (default 0.0)\n",
    "    imag -- the imaginary part (default 0.0)\n",
    "    \"\"\"\n",
    "    return complex(real, imag)"
   ]
  },
  {
   "cell_type": "markdown",
   "metadata": {
    "slideshow": {
     "slide_type": "slide"
    }
   },
   "source": [
    "### Lambda\n",
    "\n",
    "> In computer programming, an anonymous function (function literal, lambda abstraction) is a function definition that is not bound to an identifier. Anonymous functions are often:\n",
    "* arguments being passed to higher-order functions, or\n",
    "* used for constructing the result of a higher-order function that needs to return a function."
   ]
  },
  {
   "cell_type": "code",
   "execution_count": null,
   "metadata": {},
   "outputs": [],
   "source": [
    "square = lambda x: x ** 2\n",
    "square(4)"
   ]
  },
  {
   "cell_type": "code",
   "execution_count": null,
   "metadata": {},
   "outputs": [],
   "source": [
    "mypower = lambda x, y: x ** y\n",
    "mypower(2, 8)"
   ]
  },
  {
   "cell_type": "markdown",
   "metadata": {
    "slideshow": {
     "slide_type": "slide"
    }
   },
   "source": [
    "### PEP 8: Lambdas must remain anonymous\n",
    "\n",
    "Always use a def statement instead of an assignment statement that binds a lambda expression directly to an identifier.\n",
    "\n",
    "Yes:\n",
    "\n",
    "```\n",
    "def f(x): return 2*x\n",
    "```\n",
    "\n",
    "No:\n",
    "\n",
    "```\n",
    "f = lambda x: 2*x\n",
    "```"
   ]
  },
  {
   "cell_type": "markdown",
   "metadata": {
    "slideshow": {
     "slide_type": "slide"
    }
   },
   "source": [
    "In Python lambdas usually used to pass small computable blocks to other functions."
   ]
  },
  {
   "cell_type": "code",
   "execution_count": null,
   "metadata": {},
   "outputs": [],
   "source": [
    "scientists = [\n",
    "    {'name': 'Albert', 'surname': 'Einstein'},\n",
    "    {'name': 'Sigmund', 'surname': 'Freud'},\n",
    "    {'name': 'Max', 'surname': 'Born'},\n",
    "    {'name': 'Michael', 'surname': 'Faraday'}\n",
    "]\n",
    "\n",
    "sorted(scientists, key=lambda d: d['surname'])"
   ]
  },
  {
   "cell_type": "markdown",
   "metadata": {
    "slideshow": {
     "slide_type": "slide"
    }
   },
   "source": [
    "### ❗🐍  Exercise: \"polynomial\"\n",
    "\n",
    "A polynomial looks like: $a_{n}x^{n}+a_{n-1}x^{n-1}+\\dotsb +a_{2}x^{2}+a_{1}x+a_{0},$\n",
    "\n",
    "Your task is to define a function ```polynomial(*coeffs)``` that returns a function that can be applied to an argument later. Example:\n",
    "```\n",
    "poly2 = polynomial(2, 3, 4)\n",
    "```\n",
    "\n",
    "defines a polynomial $y = 2 * x ^ 2 + 3 * x + 4$\n",
    "\n",
    "```\n",
    "poly3 = polynomial(5, 6, 7, 8)\n",
    "```\n",
    "\n",
    "defines a polynomial $y = 5 * x ^ 3 + 6 * x ^ 2 + 7 * x + 8$\n",
    "\n",
    "Then ```y``` can be calculated like so:\n",
    "```\n",
    "y = poly3(10) # = 5678\n",
    "```\n",
    "\n",
    "Use function ```plot_polynomial()``` defined below to plot a nice chart of your polynomial like so ```plot_polynomial(poly2)```\n"
   ]
  },
  {
   "cell_type": "code",
   "execution_count": null,
   "metadata": {
    "slideshow": {
     "slide_type": "slide"
    }
   },
   "outputs": [],
   "source": [
    "# Press \"Run\" on this cell first to define plot_polynomial()\n",
    "%matplotlib inline\n",
    "import matplotlib.pyplot as plt\n",
    "\n",
    "def plot_polynomial(fun):  \n",
    "    x = [i / 100 for i in range(-100, 100)]\n",
    "    y = [fun(i) for i in x]\n",
    "\n",
    "    plt.plot(x, y)\n",
    "    plt.grid(True)\n",
    "    plt.show()"
   ]
  },
  {
   "cell_type": "markdown",
   "metadata": {},
   "source": [
    "Please implement function ```polynomial()```:"
   ]
  },
  {
   "cell_type": "code",
   "execution_count": null,
   "metadata": {},
   "outputs": [],
   "source": [
    "# usefull functions you might need: enumerate(), reversed()\n",
    "\n",
    "def polynomial(*coeffs):\n",
    "    pass"
   ]
  },
  {
   "cell_type": "code",
   "execution_count": null,
   "metadata": {
    "slideshow": {
     "slide_type": "slide"
    }
   },
   "outputs": [],
   "source": [
    "# when you're done, press \"Run\" on this cell\n",
    "p = polynomial(5, 6, 7, 8)\n",
    "plot_polynomial(p)"
   ]
  },
  {
   "cell_type": "markdown",
   "metadata": {
    "slideshow": {
     "slide_type": "slide"
    }
   },
   "source": [
    "If you're stuck, here's my solution, but to see it you must find a way to deobfuscate it:"
   ]
  },
  {
   "cell_type": "code",
   "execution_count": null,
   "metadata": {},
   "outputs": [],
   "source": [
    "my_solution_obfuscated = ')))sffeoc(desrever(etaremune ni c ,i rof )i ** x( * c(mus :x adbmal nruter :)sffeoc*(laimonylop fed'"
   ]
  },
  {
   "cell_type": "markdown",
   "metadata": {
    "collapsed": true,
    "slideshow": {
     "slide_type": "slide"
    }
   },
   "source": [
    "## Miscelaneous\n",
    "### Recursion\n",
    "\n",
    "> In order to understand recursion you must first understand recursion.\n",
    "\n",
    "Python has no syntax for tail recursion."
   ]
  },
  {
   "cell_type": "code",
   "execution_count": null,
   "metadata": {},
   "outputs": [],
   "source": [
    "def recursive(result, x):\n",
    "    if x > 0:  \n",
    "        result = [x] + recursive(result, x - 1)\n",
    "        print(result)\n",
    "    \n",
    "    return result\n",
    "        \n",
    "recursive([], 6)"
   ]
  },
  {
   "cell_type": "markdown",
   "metadata": {
    "slideshow": {
     "slide_type": "slide"
    }
   },
   "source": [
    "### ❗🐍  Exercise: \"recursive factorial\"\n",
    "\n",
    "Factorial ```x!``` is:\n",
    "\n",
    "```1 * 2 * 3 * ... * x```\n",
    "\n",
    "Your task is to compute factorial in recursive manner (e.g. when function calls itself until condition is reached):"
   ]
  },
  {
   "cell_type": "code",
   "execution_count": null,
   "metadata": {},
   "outputs": [],
   "source": [
    "def factorial(x):\n",
    "    pass"
   ]
  },
  {
   "cell_type": "markdown",
   "metadata": {},
   "source": [
    "Check if your code works for negative numbers, fix if not."
   ]
  },
  {
   "cell_type": "markdown",
   "metadata": {
    "slideshow": {
     "slide_type": "slide"
    }
   },
   "source": [
    "# Homework\n",
    "\n",
    "* Create new Jupyter notebook\n",
    "* Create a function(s) that finds a solution to [Knight's tour problem](https://en.wikipedia.org/wiki/Knight%27s_tour)\n",
    "* Your code must produce a string of valid moves in chess notation (64 elements, see example below)\n",
    "* Starter code provided in the next cell (yes I know that x an y axis are mixed up, but who cares, the chessboard is  symmetrical)\n",
    "* You can test your solution against ```is_valid_solution()```\n",
    "* Make sure your solution is not the same as in my example :)\n",
    "* When you're done, send your notebook to pimenoff@gmail.com"
   ]
  },
  {
   "cell_type": "code",
   "execution_count": null,
   "metadata": {},
   "outputs": [],
   "source": [
    "moves = [(-2, -1), (-2, +1), (+2, -1), (+2, +1), (-1, -2), (-1, +2), (+1, -2), (+1, +2)]\n",
    "\n",
    "to_chess_notation = lambda x, y: 'abcdefgh'[x] + str(y + 1)\n",
    "from_chess_notation = lambda s: ('abcdefgh'.index(s[0]), int(s[1]) - 1)\n",
    "chess_notation_to_list = lambda s: [from_chess_notation(x) for x in s.split(' ')]\n",
    "is_board_hit = lambda x, y: x >= 0 and x < 8 and y >= 0 and y < 8\n",
    "is_valid_move = lambda frm, to: (to[0] - frm[0], to[1] - frm[1]) in moves\n",
    "\n",
    "def is_valid_solution(solution):\n",
    "    board = [[0 for x in range(8)] for y in range(8)]\n",
    "    \n",
    "    solp = chess_notation_to_list(solution)\n",
    "    turn = 0\n",
    "    \n",
    "    while True:\n",
    "        x, y = solp.pop(0)\n",
    "       \n",
    "        if not is_board_hit(x, y) or board[x][y] > 0:\n",
    "            break\n",
    "        \n",
    "        turn += 1        \n",
    "        board[x][y] = turn\n",
    "        \n",
    "        if turn == 64:\n",
    "            display(board)\n",
    "            return True\n",
    "        \n",
    "    return False"
   ]
  },
  {
   "cell_type": "code",
   "execution_count": null,
   "metadata": {},
   "outputs": [],
   "source": [
    "example = 'a1 b3 c5 d7 f8 h7 g5 h3 g1 e2 f4 g6 h8 f7 h6 g4 h2 f1 g3 h5 f6 g8 e7 f5 g7 e6 d4 f3 h4 g2 e1 c2 e3 d1 b2 a4 c3 a2 c1 d3 e5 c4 a5 b7 d8 c6 b8 a6 b4 d5 b6 a8 c7 e8 d6 c8 a7 b5 a3 b1 d2 e4 f2 h1'\n",
    "\n",
    "is_valid_solution(example)"
   ]
  }
 ],
 "metadata": {
  "celltoolbar": "Slideshow",
  "kernelspec": {
   "display_name": "Python 3",
   "language": "python",
   "name": "python3"
  },
  "language_info": {
   "codemirror_mode": {
    "name": "ipython",
    "version": 3
   },
   "file_extension": ".py",
   "mimetype": "text/x-python",
   "name": "python",
   "nbconvert_exporter": "python",
   "pygments_lexer": "ipython3",
   "version": "3.6.3"
  },
  "livereveal": {
   "theme": "white",
   "transition": "fast"
  },
  "varInspector": {
   "cols": {
    "lenName": 16,
    "lenType": 16,
    "lenVar": 40
   },
   "kernels_config": {
    "python": {
     "delete_cmd_postfix": "",
     "delete_cmd_prefix": "del ",
     "library": "var_list.py",
     "varRefreshCmd": "print(var_dic_list())"
    },
    "r": {
     "delete_cmd_postfix": ") ",
     "delete_cmd_prefix": "rm(",
     "library": "var_list.r",
     "varRefreshCmd": "cat(var_dic_list()) "
    }
   },
   "types_to_exclude": [
    "module",
    "function",
    "builtin_function_or_method",
    "instance",
    "_Feature"
   ],
   "window_display": false
  }
 },
 "nbformat": 4,
 "nbformat_minor": 2
}
