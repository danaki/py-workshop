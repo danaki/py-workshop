{
 "cells": [
  {
   "cell_type": "markdown",
   "metadata": {
    "slideshow": {
     "slide_type": "slide"
    }
   },
   "source": [
    "# Object Oriented Programming (OOP) in Python"
   ]
  },
  {
   "cell_type": "markdown",
   "metadata": {},
   "source": [
    "> Object-oriented programming (OOP) is a programming paradigm based on the concept of \"**objects**\", which may contain data, in the form of fields, often known as **attributes**; and code, in the form of procedures, often known as **methods**. A feature of objects is that an object's procedures can access and often modify the data fields of the object with which they are associated (objects have a notion of \"self\"). In OOP, computer programs are designed by making them out of objects that interact with one another. There is significant diversity of OOP languages, but the most popular ones are class-based, meaning that objects are instances of classes, which typically also determine their type."
   ]
  },
  {
   "cell_type": "markdown",
   "metadata": {
    "slideshow": {
     "slide_type": "slide"
    }
   },
   "source": [
    "**Abstraction**. Abstraction is a process where you show only “relevant” data and “hide” unnecessary details of an object from the user.\n",
    "\n",
    "**Encapsulation**.\n",
    "  - Binding the data with the code that manipulates it.\n",
    "  - It keeps the data and the code safe from external interference\n",
    "  \n",
    "**Inheritance**.\n",
    "  - Inheritance is the mechanism by which an object acquires the some/all properties of another object.\n",
    "  - It supports the concept of hierarchical classification.\n",
    "  \n",
    "**Polymorphism**. Polymorphism means to process objects differently based on their data type.\n",
    "  - Method overriding"
   ]
  },
  {
   "cell_type": "markdown",
   "metadata": {
    "slideshow": {
     "slide_type": "slide"
    }
   },
   "source": [
    "An example when OOP is natural. Let's say we have two robots: wheeled one and one on trucks.\n",
    "\n",
    "![Wheeled robot](https://cdn.instructables.com/FEP/GAA9/IBNHGS0R/FEPGAA9IBNHGS0R.MEDIUM.jpg)\n",
    "![Trucked robot](http://cdn.ubergizmo.com/photos/2010/7/df-robotshop.jpg)"
   ]
  },
  {
   "cell_type": "markdown",
   "metadata": {
    "slideshow": {
     "slide_type": "slide"
    }
   },
   "source": [
    "Note: this is artificial example. What's wrong with this code?"
   ]
  },
  {
   "cell_type": "code",
   "execution_count": null,
   "metadata": {
    "slideshow": {
     "slide_type": "-"
    }
   },
   "outputs": [],
   "source": [
    "from math import pi\n",
    "\n",
    "trucked = {'left_drive': 0, 'right_drive': 0}\n",
    "wheeled = {'left_drive': 0, 'right_drive': 0, 'steering_angle': 0}\n",
    "\n",
    "def move(robot, step):\n",
    "    robot['left_drive'] = step\n",
    "    robot['right_drive'] = step\n",
    "        \n",
    "def turn_wheeled():\n",
    "    wheeled['steering_angle'] = pi / 4\n",
    "    move(wheeled, 100)\n",
    "    \n",
    "def turn_trucked():\n",
    "    trucked['left_drive'] = 50\n",
    "    trucked['right_drive'] = -50\n",
    "\n",
    "move(trucked, 10)\n",
    "move(wheeled, 10)\n",
    "\n",
    "turn_wheeled()\n",
    "turn_trucked()"
   ]
  },
  {
   "cell_type": "markdown",
   "metadata": {
    "slideshow": {
     "slide_type": "slide"
    }
   },
   "source": [
    "## Class definition\n",
    "\n",
    "```\n",
    "class <name>:\n",
    "    [body]\n",
    "```\n",
    "\n",
    "or\n",
    "\n",
    "```\n",
    "class <name>(Base1[, Base2 ... BaseN]):\n",
    "    [body]\n",
    "```"
   ]
  },
  {
   "cell_type": "markdown",
   "metadata": {
    "slideshow": {
     "slide_type": "slide"
    }
   },
   "source": [
    "How do we rewrite robot example?"
   ]
  },
  {
   "cell_type": "code",
   "execution_count": null,
   "metadata": {},
   "outputs": [],
   "source": [
    "class Robot:\n",
    "    def __init__(self):\n",
    "        self.left_drive = 0\n",
    "        self.right_drive = 0\n",
    "        \n",
    "    def move(self, step):\n",
    "        self.left_drive = step\n",
    "        self.right_drive = step\n",
    "\n",
    "class TruckedRobot(Robot):       \n",
    "    def turn(self):\n",
    "        self.left_drive = 50\n",
    "        self.right_drive = -50\n",
    "        \n",
    "class WheeledRobot(Robot):\n",
    "    def __init__(self):\n",
    "        super()\n",
    "        self.steering_angle = 0\n",
    "        \n",
    "    def turn(self):\n",
    "        self.steering_angle = pi / 4\n",
    "        self.move(100)\n",
    "        \n",
    "trucked = TruckedRobot()\n",
    "wheeled = WheeledRobot()\n",
    "\n",
    "trucked.move(10)\n",
    "wheeled.move(10)\n",
    "\n",
    "trucked.turn()\n",
    "wheeled.turn()"
   ]
  },
  {
   "cell_type": "markdown",
   "metadata": {
    "slideshow": {
     "slide_type": "slide"
    }
   },
   "source": [
    "Object instantiation:"
   ]
  },
  {
   "cell_type": "code",
   "execution_count": null,
   "metadata": {},
   "outputs": [],
   "source": [
    "class DoesNothing:\n",
    "    pass\n",
    "\n",
    "nothing_instance = DoesNothing()"
   ]
  },
  {
   "cell_type": "markdown",
   "metadata": {},
   "source": [
    "Notice: object instantiation looks like function call (no \"new\" keyword or smth similar)"
   ]
  },
  {
   "cell_type": "code",
   "execution_count": null,
   "metadata": {},
   "outputs": [],
   "source": [
    "type(nothing_instance)"
   ]
  },
  {
   "cell_type": "code",
   "execution_count": null,
   "metadata": {},
   "outputs": [],
   "source": [
    "nothing_instance.__class__.__name__"
   ]
  },
  {
   "cell_type": "markdown",
   "metadata": {
    "slideshow": {
     "slide_type": "slide"
    }
   },
   "source": [
    "In Python all classes are inheritted from class 'object':"
   ]
  },
  {
   "cell_type": "code",
   "execution_count": null,
   "metadata": {},
   "outputs": [],
   "source": [
    "DoesNothing.mro()"
   ]
  },
  {
   "cell_type": "markdown",
   "metadata": {},
   "source": [
    "Notice: **class is an object too**, it has methods!\n",
    "\n",
    "MRO means Method Resolution Order."
   ]
  },
  {
   "cell_type": "markdown",
   "metadata": {
    "slideshow": {
     "slide_type": "slide"
    }
   },
   "source": [
    "A note about default object implementation:"
   ]
  },
  {
   "cell_type": "code",
   "execution_count": null,
   "metadata": {},
   "outputs": [],
   "source": [
    "d1 = DoesNothing()\n",
    "d2 = DoesNothing()\n",
    "\n",
    "d1 == d2"
   ]
  },
  {
   "cell_type": "markdown",
   "metadata": {},
   "source": [
    "By default object's \"==\" compares id's. For user defined types a programmer must override rich comparison and all necessary dunder methods."
   ]
  },
  {
   "cell_type": "markdown",
   "metadata": {
    "slideshow": {
     "slide_type": "slide"
    }
   },
   "source": [
    "In Python a method with special name ```__init__``` called after object instantiation. First argument (by convention called ```self```) stores the referrence of the created object."
   ]
  },
  {
   "cell_type": "code",
   "execution_count": null,
   "metadata": {},
   "outputs": [],
   "source": [
    "class ClassWithConstructor:\n",
    "    def __init__(self):\n",
    "        print(self)\n",
    "       \n",
    "cwc = ClassWithConstructor()"
   ]
  },
  {
   "cell_type": "markdown",
   "metadata": {
    "slideshow": {
     "slide_type": "slide"
    }
   },
   "source": [
    "### Instance variables & methods\n",
    "\n",
    "Usually ```__init__``` is used to define and initalize instance variables. Instance methods must always have ```self``` as first argument."
   ]
  },
  {
   "cell_type": "code",
   "execution_count": null,
   "metadata": {},
   "outputs": [],
   "source": [
    "class Rectangle:\n",
    "    def __init__(self, width, height):\n",
    "        self.width = width\n",
    "        self.height = height \n",
    "        \n",
    "    def square(self):\n",
    "        return self.width * self.height\n",
    "    \n",
    "rect_10x20 = Rectangle(10, 20)\n",
    "print(rect_10x20.square())\n",
    "\n",
    "rect_30x10 = Rectangle(30, 10)\n",
    "print(rect_30x10.square())"
   ]
  },
  {
   "cell_type": "markdown",
   "metadata": {
    "slideshow": {
     "slide_type": "slide"
    }
   },
   "source": [
    "### Class variables & methods\n",
    "\n",
    "Notice ```@classmethod``` and ```cls``` instead of ```self```. Also notice that class variable ```density``` is defined and initialized right in class body. ```cls``` in class body references class object so ```density``` can be accessed."
   ]
  },
  {
   "cell_type": "code",
   "execution_count": null,
   "metadata": {},
   "outputs": [],
   "source": [
    "class ChemicalElement():\n",
    "    @classmethod\n",
    "    def mass(cls, length, width, height):\n",
    "        volume = length * width * height # in cm\n",
    "        return cls.density * volume\n",
    "    \n",
    "class Aluminium(ChemicalElement):\n",
    "    density = 2.70 # g / cm^3\n",
    "    \n",
    "class Ferrum(ChemicalElement):\n",
    "    density = 7.874 # g / cm^3\n",
    "    \n",
    "print(\"Al mass = {} grams\".format(Aluminium.mass(10, 10, 10)))\n",
    "print(\"Fe mass = {} grams\".format(Ferrum.mass(10, 10, 10)))"
   ]
  },
  {
   "cell_type": "markdown",
   "metadata": {
    "slideshow": {
     "slide_type": "slide"
    }
   },
   "source": [
    "### Static methods\n",
    "\n",
    "Usually you use them to hide your functions under a namespace (but this is what modules are for).\n",
    "\n",
    "Notice ```@staticmethod``` and no first required argument."
   ]
  },
  {
   "cell_type": "code",
   "execution_count": null,
   "metadata": {},
   "outputs": [],
   "source": [
    "class SquareCalculator:\n",
    "    @staticmethod\n",
    "    def rectangle(width, height):\n",
    "        return width * height\n",
    "    \n",
    "    @staticmethod\n",
    "    def circle(radius):\n",
    "        return 2 * 3.14 * radius\n",
    "    \n",
    "SquareCalculator.circle(10)"
   ]
  },
  {
   "cell_type": "markdown",
   "metadata": {
    "slideshow": {
     "slide_type": "slide"
    }
   },
   "source": [
    "#### Example"
   ]
  },
  {
   "cell_type": "code",
   "execution_count": null,
   "metadata": {},
   "outputs": [],
   "source": [
    "class BowlingBall:\n",
    "    DENSITY = 0.1\n",
    "    \n",
    "    def __init__(self, radius):\n",
    "        self.radius = radius\n",
    "        \n",
    "    def weight(self):\n",
    "        return self.sphere_volume(self.radius) * self.DENSITY \n",
    "        \n",
    "    @classmethod\n",
    "    def sphere_volume(cls, r):\n",
    "        return (4 / 3) * 3.14 * (r ** 3)\n",
    "    \n",
    "my_ball = BowlingBall(10)\n",
    "my_ball.weight()"
   ]
  },
  {
   "cell_type": "markdown",
   "metadata": {
    "slideshow": {
     "slide_type": "slide"
    }
   },
   "source": [
    "## Classes as structures\n",
    "\n",
    "Class/instance variables/methods can be dynamically assigned. Sometimes people use classes in place of structures (this is what dictionaries are for)."
   ]
  },
  {
   "cell_type": "code",
   "execution_count": null,
   "metadata": {},
   "outputs": [],
   "source": [
    "class MyContainer:\n",
    "    pass\n",
    "\n",
    "cont1 = MyContainer()\n",
    "MyContainer.my_class_attribute = \"this is class attribute\"\n",
    "\n",
    "cont1.x = 62\n",
    "cont1.y = 'Mama'\n",
    "\n",
    "cont1.__dict__"
   ]
  },
  {
   "cell_type": "code",
   "execution_count": null,
   "metadata": {
    "slideshow": {
     "slide_type": "slide"
    }
   },
   "outputs": [],
   "source": [
    "MyContainer.__dict__"
   ]
  },
  {
   "cell_type": "markdown",
   "metadata": {
    "slideshow": {
     "slide_type": "slide"
    }
   },
   "source": [
    "This is possible due to default ```__getattribute__()``` implementation, which first searches in instance and then in class variables."
   ]
  },
  {
   "cell_type": "code",
   "execution_count": null,
   "metadata": {},
   "outputs": [],
   "source": [
    "print(cont1.my_class_attribute)"
   ]
  },
  {
   "cell_type": "code",
   "execution_count": null,
   "metadata": {},
   "outputs": [],
   "source": [
    "cont2 = MyContainer()\n",
    "print(cont2.my_class_attribute)"
   ]
  },
  {
   "cell_type": "markdown",
   "metadata": {
    "slideshow": {
     "slide_type": "slide"
    }
   },
   "source": [
    "Btw one more way to access instance attribute:"
   ]
  },
  {
   "cell_type": "code",
   "execution_count": null,
   "metadata": {},
   "outputs": [],
   "source": [
    "getattr(cont1, 'x')"
   ]
  },
  {
   "cell_type": "code",
   "execution_count": null,
   "metadata": {},
   "outputs": [],
   "source": [
    "getattr(cont1, 'my_class_attribute')"
   ]
  },
  {
   "cell_type": "markdown",
   "metadata": {},
   "source": [
    "* [setattr()](https://docs.python.org/3/library/functions.html#setattr)\n",
    "* [hasattr()](https://docs.python.org/3/library/functions.html#hasattr)"
   ]
  },
  {
   "cell_type": "markdown",
   "metadata": {
    "slideshow": {
     "slide_type": "slide"
    }
   },
   "source": [
    "Looks like a prototype-based OOP (Javascript)?\n",
    "\n",
    "Docs on [staticmethod()](https://docs.python.org/3/library/functions.html#staticmethod) see also [classmethod()](https://docs.python.org/3/library/functions.html#classmethod)"
   ]
  },
  {
   "cell_type": "code",
   "execution_count": null,
   "metadata": {
    "slideshow": {
     "slide_type": "-"
    }
   },
   "outputs": [],
   "source": [
    "def my_instance_print_hello(self):\n",
    "    print(\"Hello \" + self.__class__.__name__)\n",
    "    \n",
    "def my_static_print_hello():\n",
    "    print(\"Hello static\")\n",
    "\n",
    "MyContainer.print_instance = my_instance_print_hello\n",
    "MyContainer.print_static = staticmethod(my_static_print_hello)\n",
    "\n",
    "cont2.print_instance()\n",
    "cont2.print_static()"
   ]
  },
  {
   "cell_type": "markdown",
   "metadata": {
    "slideshow": {
     "slide_type": "slide"
    }
   },
   "source": [
    "## Inheritance and polymorphism\n",
    "\n",
    "No surprises: methods can be overriden by superclasses."
   ]
  },
  {
   "cell_type": "code",
   "execution_count": null,
   "metadata": {},
   "outputs": [],
   "source": [
    "class Box2D:\n",
    "    def __init__(self, side):\n",
    "        self.side = side\n",
    "        \n",
    "    def square(self):\n",
    "        return self.side * self.side\n",
    "    \n",
    "class Box3D(Box2D):\n",
    "    def square(self):\n",
    "        return 6 * super().square()\n",
    "    \n",
    "box2d = Box2D(10)\n",
    "print(box2d.square())\n",
    "\n",
    "box3d = Box3D(10)\n",
    "print(box3d.square())"
   ]
  },
  {
   "cell_type": "markdown",
   "metadata": {
    "slideshow": {
     "slide_type": "slide"
    }
   },
   "source": [
    "### Multiple inheritance and the \"deadly diamond of death\"\n",
    "\n",
    "![](https://www.python-course.eu/images/multiple_inheritance_diamond.png)\n",
    "\n",
    "[Read more](https://www.python-course.eu/python3_multiple_inheritance.php)"
   ]
  },
  {
   "cell_type": "markdown",
   "metadata": {
    "slideshow": {
     "slide_type": "slide"
    }
   },
   "source": [
    "Because B goes first in the list of parents."
   ]
  },
  {
   "cell_type": "code",
   "execution_count": null,
   "metadata": {
    "slideshow": {
     "slide_type": "-"
    }
   },
   "outputs": [],
   "source": [
    "class A:\n",
    "    def m(self):\n",
    "        print(\"m of A called\")\n",
    "\n",
    "class B(A):\n",
    "    def m(self):\n",
    "        print(\"m of B called\")\n",
    "    \n",
    "class C(A):\n",
    "    def m(self):\n",
    "        print(\"m of C called\")\n",
    "\n",
    "class D(B, C):\n",
    "    pass\n",
    "\n",
    "x = D()\n",
    "x.m()"
   ]
  },
  {
   "cell_type": "markdown",
   "metadata": {
    "slideshow": {
     "slide_type": "slide"
    }
   },
   "source": [
    "Because C is the closest parent who overrides m()."
   ]
  },
  {
   "cell_type": "code",
   "execution_count": null,
   "metadata": {
    "slideshow": {
     "slide_type": "-"
    }
   },
   "outputs": [],
   "source": [
    "class A:\n",
    "    def m(self):\n",
    "        print(\"m of A called\")\n",
    "\n",
    "class B(A):\n",
    "    pass\n",
    "    \n",
    "class C(A):\n",
    "    def m(self):\n",
    "        print(\"m of C called\")\n",
    "\n",
    "class D(B, C):\n",
    "    pass\n",
    "\n",
    "x = D()\n",
    "x.m()"
   ]
  },
  {
   "cell_type": "markdown",
   "metadata": {
    "slideshow": {
     "slide_type": "slide"
    }
   },
   "source": [
    "Try to avoid multiple inheritance. But it's good for [Mixins](https://en.wikipedia.org/wiki/Mixin):\n",
    "\n",
    "> In object-oriented programming languages, a Mixin is a class that contains methods for use by other classes without having to be the parent class of those other classes. ... Mixins are sometimes described as being \"included\" rather than \"inherited\"."
   ]
  },
  {
   "cell_type": "markdown",
   "metadata": {
    "slideshow": {
     "slide_type": "slide"
    }
   },
   "source": [
    "#### Usefull built-in methods\n",
    "\n",
    "* [isinstance()](https://docs.python.org/3/library/functions.html#isinstance)\n",
    "* [issubclass()](https://docs.python.org/3/library/functions.html#issubclass)"
   ]
  },
  {
   "cell_type": "code",
   "execution_count": null,
   "metadata": {},
   "outputs": [],
   "source": [
    "isinstance(x, D)"
   ]
  },
  {
   "cell_type": "code",
   "execution_count": null,
   "metadata": {},
   "outputs": [],
   "source": [
    "issubclass(D, C)"
   ]
  },
  {
   "cell_type": "markdown",
   "metadata": {
    "slideshow": {
     "slide_type": "slide"
    }
   },
   "source": [
    "## Calling parents\n",
    "\n",
    "* [super()](https://docs.python.org/3/library/functions.html#super)\n",
    "\n",
    "Here's the demo of what an mixin is. Notice that AdminMixin's and ProgrammerMixin's ```__init__``` are not called. This is why typically mixins have no constructors."
   ]
  },
  {
   "cell_type": "code",
   "execution_count": null,
   "metadata": {},
   "outputs": [],
   "source": [
    "class Person:\n",
    "    def __init__(self, name):\n",
    "        self.name = name        \n",
    "        print(\"Person.__init__() called\")\n",
    "        \n",
    "class AdminMixin:\n",
    "    def __init__(self):\n",
    "        self.servers = []\n",
    "        print(\"AdminMixin.__init__() called\")\n",
    "        \n",
    "    def controls(self, servers):\n",
    "        self.servers = servers[:]\n",
    "\n",
    "class ProgrammerMixin:\n",
    "    def __init__(self):\n",
    "        self.languages = ['Python']\n",
    "        print(\"ProgrammerMixin.__init__() called\")\n",
    "\n",
    "    def knows(self, languages):\n",
    "        self.languages = languages[:]\n",
    "\n",
    "class Employee(Person, AdminMixin, ProgrammerMixin):\n",
    "    def __init__(self, name):\n",
    "        super().__init__(name)\n",
    "        \n",
    "vasya = Employee('Vasya')\n",
    "vasya.name"
   ]
  },
  {
   "cell_type": "markdown",
   "metadata": {
    "slideshow": {
     "slide_type": "slide"
    }
   },
   "source": [
    "Another option is to specify parents explicitly."
   ]
  },
  {
   "cell_type": "code",
   "execution_count": null,
   "metadata": {
    "slideshow": {
     "slide_type": "-"
    }
   },
   "outputs": [],
   "source": [
    "class OmniscientEmployee(Person, AdminMixin, ProgrammerMixin):\n",
    "    def __init__(self, name):\n",
    "        Person.__init__(self, name)\n",
    "        AdminMixin.__init__(self)\n",
    "        ProgrammerMixin.__init__(self)\n",
    "        \n",
    "petya = OmniscientEmployee('Petya')"
   ]
  },
  {
   "cell_type": "markdown",
   "metadata": {},
   "source": [
    "But multiple inheritance this way is also bad because you have to follow the correct order of calling methods."
   ]
  },
  {
   "cell_type": "markdown",
   "metadata": {
    "slideshow": {
     "slide_type": "slide"
    }
   },
   "source": [
    "Sometimes in others' code you'll find this way of calling super:"
   ]
  },
  {
   "cell_type": "code",
   "execution_count": null,
   "metadata": {},
   "outputs": [],
   "source": [
    "class OlderEmployee(Person):\n",
    "    def __init__(self, name):\n",
    "        super(self.__class__, self).__init__(name)\n",
    "        \n",
    "masha = OlderEmployee('Masha')"
   ]
  },
  {
   "cell_type": "markdown",
   "metadata": {},
   "source": [
    "This is Python2 style where super() required an argument. In Python3 super() without any arguments understands the calling context."
   ]
  },
  {
   "cell_type": "markdown",
   "metadata": {
    "slideshow": {
     "slide_type": "slide"
    }
   },
   "source": [
    "At least now we see that there're several ways of calling object methods."
   ]
  },
  {
   "cell_type": "code",
   "execution_count": null,
   "metadata": {},
   "outputs": [],
   "source": [
    "class MyPrinter:\n",
    "    def print(self, message):\n",
    "        print(message)\n",
    "        \n",
    "    def woofwoof(self):\n",
    "        self.print('Woof-woof!')\n",
    "        \n",
    "    def moomoo(self):\n",
    "        MyPrinter.print(self, 'Moo-moo!')\n",
    "        \n",
    "my_printer = MyPrinter()\n",
    "\n",
    "my_printer.woofwoof()\n",
    "my_printer.moomoo()\n",
    "\n",
    "# MyPrinter.print is \"bound\" method (it requires an object in \"self\" argument)\n",
    "MyPrinter.print(my_printer, 'Meow-meow!')"
   ]
  },
  {
   "cell_type": "markdown",
   "metadata": {
    "slideshow": {
     "slide_type": "slide"
    }
   },
   "source": [
    "### A note about abstract classes\n",
    "\n",
    "How it's usually done:"
   ]
  },
  {
   "cell_type": "code",
   "execution_count": null,
   "metadata": {},
   "outputs": [],
   "source": [
    "class MyAbstractClass:\n",
    "    def do_the_thing(self): raise NotImplementedError()\n",
    "        \n",
    "class MyRealDoer(MyAbstractClass):\n",
    "    def do_the_thing(self): print(\"Thing is done\")\n",
    "        \n",
    "my_abstract = MyAbstractClass()\n",
    "my_real = MyRealDoer()"
   ]
  },
  {
   "cell_type": "code",
   "execution_count": null,
   "metadata": {},
   "outputs": [],
   "source": [
    "my_real.do_the_thing()"
   ]
  },
  {
   "cell_type": "code",
   "execution_count": null,
   "metadata": {},
   "outputs": [],
   "source": [
    "my_abstract.do_the_thing()"
   ]
  },
  {
   "cell_type": "markdown",
   "metadata": {},
   "source": [
    "Also see [abc module](https://docs.python.org/3/library/abc.html)"
   ]
  },
  {
   "cell_type": "markdown",
   "metadata": {
    "slideshow": {
     "slide_type": "slide"
    }
   },
   "source": [
    "### A note about public, protected and private access modifiers\n",
    "\n",
    "A good [explainer post](http://radek.io/2011/07/21/private-protected-and-public-in-python/)\n",
    "\n",
    "Python doesn’t have any mechanisms, that would effectively restrict you from accessing a variable or calling a member method. All of this is a matter of culture and **convention**.\n",
    "\n",
    "* All member variables and methods are public by default in Python.\n",
    "* The ```_``` prefix means **stay away even if you're not technically prevented from doing so**. This also denotes **protected** member\n",
    "* The ```__``` prefix means **private**, e.g. nobody should be able to access it from outside the class.\n",
    "\n",
    "Pros: since all members are publicly accessible, no need for boilerplate getter/setter code (but still possible using @property)."
   ]
  },
  {
   "cell_type": "markdown",
   "metadata": {
    "slideshow": {
     "slide_type": "slide"
    }
   },
   "source": [
    "Python supports a technique called name mangling (obfuscation). This feature turns every member name prefixed with at least two underscores and suffixed with at most one underscore into ```_<className><memberName>```"
   ]
  },
  {
   "cell_type": "code",
   "execution_count": null,
   "metadata": {
    "slideshow": {
     "slide_type": "-"
    }
   },
   "outputs": [],
   "source": [
    "class PublicProtectedPrivateDemo:\n",
    "    def __init__(self):\n",
    "        self.public     = 'public'\n",
    "        self._protected = 'protected'\n",
    "        self.__private  = 'private'\n",
    "        \n",
    "pppd = PublicProtectedPrivateDemo()\n",
    "pppd.__dict__"
   ]
  },
  {
   "cell_type": "markdown",
   "metadata": {},
   "source": [
    "You can still access ```__private``` member by refererring ```_PublicProtectedPrivateDemo__private```."
   ]
  },
  {
   "cell_type": "code",
   "execution_count": null,
   "metadata": {},
   "outputs": [],
   "source": [
    "pppd._PublicProtectedPrivateDemo__private"
   ]
  },
  {
   "cell_type": "markdown",
   "metadata": {
    "slideshow": {
     "slide_type": "slide"
    }
   },
   "source": [
    "## How to make a property\n",
    "\n",
    "See [property()](https://docs.python.org/3/library/functions.html#property)\n",
    "\n",
    "To fully understand this example, we have to learn about decorators. But don't worry, we'll do it in the next workshop."
   ]
  },
  {
   "cell_type": "code",
   "execution_count": null,
   "metadata": {},
   "outputs": [],
   "source": [
    "class Student:\n",
    "    def __init__(self, name, surname):\n",
    "        self.name = name\n",
    "        self.surname = surname\n",
    "\n",
    "    @property\n",
    "    def fullname(self):\n",
    "        return self.name + ' ' + self.surname\n",
    "    \n",
    "    @fullname.setter\n",
    "    def fullname(self, value):\n",
    "        self.name, self.surname = value.split()\n",
    "        \n",
    "student = Student('John', 'Smith')\n",
    "student.fullname"
   ]
  },
  {
   "cell_type": "code",
   "execution_count": null,
   "metadata": {},
   "outputs": [],
   "source": [
    "student.fullname = 'Ivan Sidorov'\n",
    "student.name, student.surname"
   ]
  },
  {
   "cell_type": "markdown",
   "metadata": {
    "slideshow": {
     "slide_type": "slide"
    }
   },
   "source": [
    "Properties are useful for:\n",
    "* Calculated variables (like in example above)\n",
    "* Read-only or write-only variables\n",
    "* Getter/setter replacement"
   ]
  },
  {
   "cell_type": "markdown",
   "metadata": {
    "slideshow": {
     "slide_type": "slide"
    }
   },
   "source": [
    "## Exceptions\n",
    "### Rationale\n",
    "\n",
    "How to create socket server in C (pseudocode):\n",
    "```\n",
    "#include <errno.h>\n",
    "\n",
    "sock = socket(AF_INET, SOCK_STREAM, 0);\n",
    "if (sock < 0)\n",
    "    return -1;\n",
    "\n",
    "if (bind(sock, ...) < 0)\n",
    "    return -1;\n",
    "\n",
    "if (listen(sock, 1) < 0)\n",
    "    return -1;\n",
    "\n",
    "client = accept(sock, ...);\n",
    "if (client < 0)\n",
    "    return -1;\n",
    "```"
   ]
  },
  {
   "cell_type": "markdown",
   "metadata": {
    "slideshow": {
     "slide_type": "slide"
    }
   },
   "source": [
    "### What is an Exception?\n",
    "\n",
    "> The term exception is shorthand for the phrase \"exceptional event.\"\n",
    "\n",
    ">> Definition: An exception is an event, which occurs during the execution of a program, that disrupts the normal flow of the program's instructions."
   ]
  },
  {
   "cell_type": "markdown",
   "metadata": {
    "slideshow": {
     "slide_type": "slide"
    }
   },
   "source": [
    "### Exceptions in Python\n",
    "\n",
    "See [Errors](https://docs.python.org/3/tutorial/errors.html)\n",
    "\n",
    "Throw:\n",
    "\n",
    "```raise <ExceptionInstance>```\n",
    "\n",
    "or\n",
    "\n",
    "```raise <ExceptionClass>```\n",
    "\n",
    "exception will be automatically instantiated."
   ]
  },
  {
   "cell_type": "markdown",
   "metadata": {
    "slideshow": {
     "slide_type": "slide"
    }
   },
   "source": [
    "Catch:\n",
    "\n",
    "```\n",
    "try:\n",
    "    [block of code]\n",
    "except:\n",
    "    [exception handling code]\n",
    "```\n",
    "\n",
    "(wildcard, please never use)\n",
    "\n",
    "or\n",
    "\n",
    "```\n",
    "try:\n",
    "    [block of code]\n",
    "except <ExceptionClass>:\n",
    "    [exception handling code]\n",
    "```\n",
    "\n",
    "if you need exception details, you can provide the name of variable of exception instance:\n",
    "\n",
    "```\n",
    "try:\n",
    "    [block of code]\n",
    "except <ExceptionClass> as <exception_instance>:\n",
    "    [exception handling code]\n",
    "```"
   ]
  },
  {
   "cell_type": "markdown",
   "metadata": {
    "slideshow": {
     "slide_type": "slide"
    }
   },
   "source": [
    "or\n",
    "\n",
    "```\n",
    "try:\n",
    "    [block of code]\n",
    "except (<ExceptionClass1>, <ExceptionClass2>, ..., <ExceptionClassN>):\n",
    "    [exception handling code]\n",
    "```\n",
    "\n",
    "or\n",
    "\n",
    "```\n",
    "try:\n",
    "    [block of code]\n",
    "except <ExceptionClass1>:\n",
    "    [exception handling code]\n",
    "except <ExceptionClass2>:\n",
    "    [exception handling code]\n",
    "...\n",
    "except <ExceptionClassN>:\n",
    "    [exception handling code]\n",
    "except:\n",
    "    [exception handling code]\n",
    "```"
   ]
  },
  {
   "cell_type": "markdown",
   "metadata": {
    "slideshow": {
     "slide_type": "slide"
    }
   },
   "source": [
    "The full syntax:\n",
    "\n",
    "```\n",
    "try:\n",
    "    [block of code]\n",
    "except:\n",
    "    [exception handling code]\n",
    "else:\n",
    "    [code if no exception were raised]\n",
    "finally:\n",
    "    [clean-up code, runs always]\n",
    "```"
   ]
  },
  {
   "cell_type": "code",
   "execution_count": null,
   "metadata": {
    "slideshow": {
     "slide_type": "slide"
    }
   },
   "outputs": [],
   "source": [
    "def divide(x, y):\n",
    "    try:\n",
    "        result = x / y\n",
    "    except ZeroDivisionError:\n",
    "        print(\"division by zero!\")\n",
    "    except TypeError:\n",
    "        print(\"messed with types\")\n",
    "        raise\n",
    "    else:\n",
    "        print(\"result is\", result)\n",
    "    finally:\n",
    "        print(\"executing finally clause\")"
   ]
  },
  {
   "cell_type": "code",
   "execution_count": null,
   "metadata": {},
   "outputs": [],
   "source": [
    "divide(2, 1)"
   ]
  },
  {
   "cell_type": "code",
   "execution_count": null,
   "metadata": {},
   "outputs": [],
   "source": [
    "divide(2, 0)"
   ]
  },
  {
   "cell_type": "code",
   "execution_count": null,
   "metadata": {},
   "outputs": [],
   "source": [
    "divide(\"2\", \"1\")"
   ]
  },
  {
   "cell_type": "markdown",
   "metadata": {
    "slideshow": {
     "slide_type": "slide"
    }
   },
   "source": [
    "### When to use exceptions\n",
    "\n",
    "[Good Exception Management Rules of Thumb](http://www.hanselman.com/blog/GoodExceptionManagementRulesOfThumb.aspx)\n",
    "\n",
    "> You shouldn't throw exceptions for things that happen all the time. Then they'd be \"ordinaries\".\n",
    "\n",
    "[Idioms and Anti-Idioms in Python](https://docs.python.org/3.0/howto/doanddont.html#exceptions)\n",
    "\n",
    "> Exceptions are a useful feature of Python. You should learn to raise them whenever something unexpected occurs, and catch them only where you can do something about them.\n",
    "\n",
    "[Samurai Principle](http://wiki.c2.com/?SamuraiPrinciple)\n",
    "\n",
    "> Return victorious, or not at all."
   ]
  },
  {
   "cell_type": "markdown",
   "metadata": {
    "slideshow": {
     "slide_type": "slide"
    }
   },
   "source": [
    "### Defensive programming\n",
    "\n",
    "[Defensive programming in Python](https://www.pluralsight.com/guides/python/defensive-programming-in-python)"
   ]
  },
  {
   "cell_type": "code",
   "execution_count": null,
   "metadata": {},
   "outputs": [],
   "source": [
    "assert True is True"
   ]
  },
  {
   "cell_type": "code",
   "execution_count": null,
   "metadata": {},
   "outputs": [],
   "source": [
    "assert True is False"
   ]
  },
  {
   "cell_type": "code",
   "execution_count": null,
   "metadata": {},
   "outputs": [],
   "source": [
    "def defensive_divide(x, y):\n",
    "    assert y > 0\n",
    "    return x / y\n",
    "\n",
    "defensive_divide(5, 2)"
   ]
  },
  {
   "cell_type": "code",
   "execution_count": null,
   "metadata": {},
   "outputs": [],
   "source": [
    "defensive_divide(5, 0)"
   ]
  },
  {
   "cell_type": "markdown",
   "metadata": {
    "slideshow": {
     "slide_type": "slide"
    }
   },
   "source": [
    "#### Problems of asserts\n",
    "\n",
    "> It's very easy to overuse asserts and quickly make your code difficult to read. This can make your code very noisy and bury the real functionality in a series of error checks and conditions.\n",
    "    \n",
    "> Typically, for both technical and practical reasons, assert statements aren't meant for production code. Asserts are only enabled when the hidden debug  constant is True. However, the default value for this constant is True, which means your code is most likely currently shipping in debug mode.\n",
    "\n",
    "Just cover your code with Unit Tests!"
   ]
  },
  {
   "cell_type": "markdown",
   "metadata": {
    "slideshow": {
     "slide_type": "slide"
    }
   },
   "source": [
    "### Built-in exceptions\n",
    "\n",
    "Reuse [Built-in Exceptions](https://docs.python.org/3/library/exceptions.html) in context, or create your own [User-defined Exceptions](https://docs.python.org/3/tutorial/errors.html#user-defined-exceptions):\n",
    "\n",
    "> [User-defined] Exceptions should typically be derived from the Exception class, either directly or indirectly."
   ]
  },
  {
   "cell_type": "code",
   "execution_count": null,
   "metadata": {},
   "outputs": [],
   "source": [
    "class Error(Exception):\n",
    "    \"\"\"Base class for exceptions in this module.\"\"\"\n",
    "    pass\n",
    "\n",
    "class InputError(Error):\n",
    "    \"\"\"Exception raised for errors in the input.\n",
    "\n",
    "    Attributes:\n",
    "        expression -- input expression in which the error occurred\n",
    "        message -- explanation of the error\n",
    "    \"\"\"\n",
    "\n",
    "    def __init__(self, expression, message):\n",
    "        self.expression = expression\n",
    "        self.message = message\n",
    "        \n",
    "raise InputError('erroneous input', 'A user entered something wrong')"
   ]
  },
  {
   "cell_type": "markdown",
   "metadata": {
    "slideshow": {
     "slide_type": "slide"
    }
   },
   "source": [
    "#### Advice\n",
    "\n",
    "When building your own exception hierarchy don't allow abstraction leak. Catch an exception from the lower level of abstraction and if you don't know how to deal with it, rethrow (pop it) wraping on the current level of abstraction.\n",
    "\n",
    "A silly example of exception layers (let's say we have a database in json, csv, xml etc files):\n",
    " * File access layer (throws FileNotFound)\n",
    " * File format abstraction layer (catches FileNotFound throws MissingTableData)\n",
    " * Database layer (catches MissingTableData throws EmptyDataset)\n",
    " * ORM layer (catches EmptyDataset)"
   ]
  },
  {
   "cell_type": "markdown",
   "metadata": {
    "slideshow": {
     "slide_type": "slide"
    }
   },
   "source": [
    "## Special method names\n",
    "\n",
    "See [Data model](https://docs.python.org/3/reference/datamodel.html#special-method-names)\n",
    "\n",
    "> A class can implement certain operations that are invoked by special syntax (such as arithmetic operations or subscripting and slicing) by defining methods with special names. This is Python’s approach to operator overloading, allowing classes to define their own behavior with respect to language operators."
   ]
  },
  {
   "cell_type": "markdown",
   "metadata": {
    "slideshow": {
     "slide_type": "slide"
    }
   },
   "source": [
    "Let's learn by example. Imagine we want a class that is a human language representation of number from 0 to 9 and acts like an integer."
   ]
  },
  {
   "cell_type": "code",
   "execution_count": null,
   "metadata": {},
   "outputs": [],
   "source": [
    "class Humanumba:\n",
    "    words = 'zero', 'one', 'two', 'three', 'four', 'five', 'six', 'seven', 'eight', 'nine'\n",
    "    \n",
    "    def __new__(cls, word):\n",
    "        if word not in cls.words:\n",
    "            raise Exception('Not in vocabulary')\n",
    "            \n",
    "        obj = super().__new__(cls)\n",
    "        \n",
    "        return obj\n",
    "    \n",
    "    def __init__(self, word):\n",
    "        self.index = self.words.index(word)\n",
    "    \n",
    "    def __str__(self):\n",
    "        return self.words[self.index]\n",
    "    \n",
    "    def __repr__(self):\n",
    "        return \"{cls}('{word}')\".format(\n",
    "            cls=self.__class__.__name__,\n",
    "            word=self.words[self.index]\n",
    "        )\n",
    "    \n",
    "one = Humanumba('one')\n",
    "\n",
    "print(one)\n",
    "repr(one)"
   ]
  },
  {
   "cell_type": "markdown",
   "metadata": {
    "slideshow": {
     "slide_type": "slide"
    }
   },
   "source": [
    "Let's now try some basic operations."
   ]
  },
  {
   "cell_type": "code",
   "execution_count": null,
   "metadata": {},
   "outputs": [],
   "source": [
    "another_one = Humanumba('one')\n",
    "\n",
    "one == another_one"
   ]
  },
  {
   "cell_type": "markdown",
   "metadata": {},
   "source": [
    "But ```one``` and ```another_one``` represent the same entity. Let's fix that."
   ]
  },
  {
   "cell_type": "code",
   "execution_count": null,
   "metadata": {},
   "outputs": [],
   "source": [
    "class Humanumba2(Humanumba):\n",
    "    def __eq__(self, other):\n",
    "        return self.index == other.index\n",
    "    \n",
    "one = Humanumba2('one')\n",
    "another_one = Humanumba2('one')\n",
    "\n",
    "one == another_one"
   ]
  },
  {
   "cell_type": "code",
   "execution_count": null,
   "metadata": {
    "slideshow": {
     "slide_type": "slide"
    }
   },
   "outputs": [],
   "source": [
    "zero = Humanumba2('zero')\n",
    "\n",
    "zero < one"
   ]
  },
  {
   "cell_type": "markdown",
   "metadata": {},
   "source": [
    "Let's fix that too:"
   ]
  },
  {
   "cell_type": "code",
   "execution_count": null,
   "metadata": {},
   "outputs": [],
   "source": [
    "class Humanumba3(Humanumba2):\n",
    "    def __lt__(self, other):\n",
    "        return self.index < other.index\n",
    "    \n",
    "    def __le__(self, other):\n",
    "        return self.index <= other.index    \n",
    "    \n",
    "    def __gt__(self, other):\n",
    "        return self.index > other.index\n",
    "    \n",
    "    def __ge__(self, other):\n",
    "        return self.index >= other.index\n",
    "\n",
    "zero = Humanumba3('zero')\n",
    "one = Humanumba3('one')\n",
    "two = Humanumba3('two')\n",
    "\n",
    "zero < one < two"
   ]
  },
  {
   "cell_type": "markdown",
   "metadata": {
    "slideshow": {
     "slide_type": "slide"
    }
   },
   "source": [
    "Humanumba is actually a number in it's core, let's allow to compare to numeric types:"
   ]
  },
  {
   "cell_type": "code",
   "execution_count": null,
   "metadata": {},
   "outputs": [],
   "source": [
    "class Humanumba4(Humanumba3):\n",
    "    def __lt__(self, other):\n",
    "        index = other if isinstance(other, (int, float)) else other.index    \n",
    "        return self.index < index\n",
    "    \n",
    "    def __le__(self, other):\n",
    "        index = other if isinstance(other, (int, float)) else other.index\n",
    "        return self.index <= index    \n",
    "    \n",
    "    def __gt__(self, other):\n",
    "        index = other if isinstance(other, (int, float)) else other.index\n",
    "        return self.index > index\n",
    "    \n",
    "    def __ge__(self, other):\n",
    "        index = other if isinstance(other, (int, float)) else other.index        \n",
    "        return self.index >= index\n",
    "    \n",
    "one = Humanumba4('one')\n",
    "0 < one < 3.14"
   ]
  },
  {
   "cell_type": "markdown",
   "metadata": {
    "slideshow": {
     "slide_type": "slide"
    }
   },
   "source": [
    "# Homework\n",
    "\n",
    "* Create new Jupyter notebook\n",
    "* Implement a class representing [Rational Numbers](https://en.wikipedia.org/wiki/Rational_number), e.g. numbers represented by a fraction $p/q$\n",
    "* Implement all math operators, see [Emulating numeric types](https://docs.python.org/3/reference/datamodel.html#emulating-numeric-types)\n",
    "* It must reduce the fraction on every step (remember GCD from 2nd Workshop).\n",
    "* Do not support float (because of precision)\n",
    "* Do not support power (``**``) operator (too complex for fractions)\n",
    "* Test your code against basic tests below\n",
    "* When you're done, send your notebook to **pimenoff@gmail.com**"
   ]
  },
  {
   "cell_type": "code",
   "execution_count": null,
   "metadata": {
    "slideshow": {
     "slide_type": "slide"
    }
   },
   "outputs": [],
   "source": [
    "class Rational:\n",
    "    def __init__(self, p, q=1):\n",
    "        self.p = p\n",
    "        self.q = q\n",
    "        \n",
    "    def __str__(self):\n",
    "        return \"{p}/{q}\".format(p=self.p, q=self.q)\n",
    "    \n",
    "    def __repr__(self):\n",
    "        return \"{cls}({p}, {q})\".format(\n",
    "            cls=self.__class__.__name__,\n",
    "            p=self.p,\n",
    "            q=self.q\n",
    "        )        "
   ]
  },
  {
   "cell_type": "code",
   "execution_count": null,
   "metadata": {
    "slideshow": {
     "slide_type": "slide"
    }
   },
   "outputs": [],
   "source": [
    "assert Rational(3) == Rational(3, 1)\n",
    "\n",
    "assert Rational(1, 3) * Rational(3, 1) == Rational(1, 1)\n",
    "assert Rational(1, 3) + Rational(1, 3) == Rational(2, 3)\n",
    "assert Rational(1, 3) - Rational(1, 3) == Rational(0, 1)\n",
    "assert Rational(1, 3) / Rational(3, 1) == Rational(1, 9)\n",
    "assert Rational(10, 3) * Rational(3, 1) == Rational(10, 1)\n",
    "\n",
    "assert Rational(1, 3) * 3 == Rational(1, 1)\n",
    "assert Rational(1, 3) + 3 == Rational(4, 3)\n",
    "assert Rational(1, 3) / 3 == Rational(1, 9)\n",
    "assert Rational(10, 3) * 3 == Rational(10, 1)\n",
    "\n",
    "# denominator not important if numerator = 0\n",
    "assert Rational(0, 1) == Rational(0, 2)\n",
    "assert Rational(0, 1) == 0\n",
    "\n",
    "assert Rational(10, 3) > Rational(3, 1)\n",
    "assert Rational(3, 1) < Rational(10, 3)\n",
    "\n",
    "# denominator not important if numerator = 0\n",
    "assert not bool(Rational(0, 100))\n",
    "assert bool(Rational(100, 1))"
   ]
  },
  {
   "cell_type": "code",
   "execution_count": null,
   "metadata": {},
   "outputs": [],
   "source": [
    "try:\n",
    "    singularity = Rational(1, 0)\n",
    "    \n",
    "    raise Exception('Must throw ZeroDivisionError')\n",
    "except ZeroDivisionError:\n",
    "    pass"
   ]
  }
 ],
 "metadata": {
  "kernelspec": {
   "display_name": "Python 3",
   "language": "python",
   "name": "python3"
  },
  "language_info": {
   "codemirror_mode": {
    "name": "ipython",
    "version": 3
   },
   "file_extension": ".py",
   "mimetype": "text/x-python",
   "name": "python",
   "nbconvert_exporter": "python",
   "pygments_lexer": "ipython3",
   "version": "3.6.3"
  },
  "varInspector": {
   "cols": {
    "lenName": 16,
    "lenType": 16,
    "lenVar": 40
   },
   "kernels_config": {
    "python": {
     "delete_cmd_postfix": "",
     "delete_cmd_prefix": "del ",
     "library": "var_list.py",
     "varRefreshCmd": "print(var_dic_list())"
    },
    "r": {
     "delete_cmd_postfix": ") ",
     "delete_cmd_prefix": "rm(",
     "library": "var_list.r",
     "varRefreshCmd": "cat(var_dic_list()) "
    }
   },
   "types_to_exclude": [
    "module",
    "function",
    "builtin_function_or_method",
    "instance",
    "_Feature"
   ],
   "window_display": false
  }
 },
 "nbformat": 4,
 "nbformat_minor": 2
}
