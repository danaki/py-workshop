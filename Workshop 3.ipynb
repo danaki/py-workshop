{
 "cells": [
  {
   "cell_type": "markdown",
   "metadata": {
    "slideshow": {
     "slide_type": "slide"
    }
   },
   "source": [
    "# Object Oriented Programming (OOP) in Python"
   ]
  },
  {
   "cell_type": "markdown",
   "metadata": {},
   "source": [
    "> Object-oriented programming (OOP) is a programming paradigm based on the concept of \"**objects**\", which may contain data, in the form of fields, often known as **attributes**; and code, in the form of procedures, often known as **methods**. A feature of objects is that an object's procedures can access and often modify the data fields of the object with which they are associated (objects have a notion of \"self\"). In OOP, computer programs are designed by making them out of objects that interact with one another. There is significant diversity of OOP languages, but the most popular ones are class-based, meaning that objects are instances of classes, which typically also determine their type."
   ]
  },
  {
   "cell_type": "markdown",
   "metadata": {
    "slideshow": {
     "slide_type": "slide"
    }
   },
   "source": [
    "**Abstraction**. Abstraction is a process where you show only “relevant” data and “hide” unnecessary details of an object from the user.\n",
    "\n",
    "**Encapsulation**.\n",
    "  - Binding the data with the code that manipulates it.\n",
    "  - It keeps the data and the code safe from external interference\n",
    "  \n",
    "**Inheritance**.\n",
    "  - Inheritance is the mechanism by which an object acquires the some/all properties of another object.\n",
    "  - It supports the concept of hierarchical classification.\n",
    "  \n",
    "**Polymorphism**. Polymorphism means to process objects differently based on their data type.\n",
    "  - Method overriding"
   ]
  },
  {
   "cell_type": "markdown",
   "metadata": {
    "slideshow": {
     "slide_type": "slide"
    }
   },
   "source": [
    "Class definition:\n",
    "\n",
    "```\n",
    "class <name>:\n",
    "    [body]\n",
    "```\n",
    "\n",
    "and object instantiation:"
   ]
  },
  {
   "cell_type": "code",
   "execution_count": 4,
   "metadata": {},
   "outputs": [
    {
     "data": {
      "text/plain": [
       "<__main__.DoesNothing at 0x10f159ac8>"
      ]
     },
     "execution_count": 4,
     "metadata": {},
     "output_type": "execute_result"
    }
   ],
   "source": [
    "class DoesNothing:\n",
    "    pass\n",
    "\n",
    "nothing_instance = DoesNothing()\n",
    "\n",
    "nothing_instance"
   ]
  },
  {
   "cell_type": "markdown",
   "metadata": {},
   "source": [
    "Notice: object instantiation looks like function call (no \"new\" keyword or smth similar)"
   ]
  },
  {
   "cell_type": "markdown",
   "metadata": {
    "slideshow": {
     "slide_type": "slide"
    }
   },
   "source": [
    "In Python all classes are inheritted from class 'object':"
   ]
  },
  {
   "cell_type": "code",
   "execution_count": 9,
   "metadata": {},
   "outputs": [
    {
     "data": {
      "text/plain": [
       "[__main__.DoesNothing, object]"
      ]
     },
     "execution_count": 9,
     "metadata": {},
     "output_type": "execute_result"
    }
   ],
   "source": [
    "DoesNothing.mro()"
   ]
  },
  {
   "cell_type": "markdown",
   "metadata": {},
   "source": [
    "Notice: class is an object too, it has methods!"
   ]
  },
  {
   "cell_type": "markdown",
   "metadata": {
    "slideshow": {
     "slide_type": "slide"
    }
   },
   "source": [
    "Constructor is the special method that is called on object instantiation. In Python constructor has name ```__init__```. First argument (by convention called ```self```) stores the refference to the newly created object."
   ]
  },
  {
   "cell_type": "code",
   "execution_count": 21,
   "metadata": {},
   "outputs": [
    {
     "name": "stdout",
     "output_type": "stream",
     "text": [
      "<__main__.ClassWithConstructor object at 0x10f205b00>\n",
      "<__main__.ClassWithConstructor object at 0x10f205b00>\n"
     ]
    }
   ],
   "source": [
    "class ClassWithConstructor:\n",
    "    def __init__(self):\n",
    "        print(self)\n",
    "       \n",
    "        \n",
    "cwc = ClassWithConstructor()\n",
    "print(repr(cwc))"
   ]
  },
  {
   "cell_type": "code",
   "execution_count": null,
   "metadata": {
    "collapsed": true
   },
   "outputs": [],
   "source": []
  }
 ],
 "metadata": {
  "celltoolbar": "Slideshow",
  "kernelspec": {
   "display_name": "Python 3",
   "language": "python",
   "name": "python3"
  },
  "language_info": {
   "codemirror_mode": {
    "name": "ipython",
    "version": 3
   },
   "file_extension": ".py",
   "mimetype": "text/x-python",
   "name": "python",
   "nbconvert_exporter": "python",
   "pygments_lexer": "ipython3",
   "version": "3.6.2"
  }
 },
 "nbformat": 4,
 "nbformat_minor": 2
}
